{
 "cells": [
  {
   "cell_type": "markdown",
   "metadata": {
    "id": "LAk9iB7nWphO"
   },
   "source": [
    "# Assignment-2\n",
    "\n",
    "**Due Date:** 16.11.2022 \n",
    "\n",
    "---------------------------------------\n",
    "\n",
    "**Instructor:** Erkut Erdem\n",
    "\n",
    "**TA:** Sibel Kapan\n",
    "\n",
    "---------------------------------------\n",
    "\n",
    "**Student:** Sare Naz Ersoy"
   ]
  },
  {
   "cell_type": "markdown",
   "metadata": {
    "id": "aEkAHiyHbISd"
   },
   "source": [
    "**Github Classroom:** https://classroom.github.com/a/G-DSs1pj\n",
    "\n"
   ]
  },
  {
   "cell_type": "markdown",
   "metadata": {
    "id": "HDXPK7uSX0Us"
   },
   "source": [
    "## Part II: Book Genre Classification with Naive Bayes\n"
   ]
  },
  {
   "cell_type": "markdown",
   "metadata": {
    "id": "5Uy5OHCkWxob"
   },
   "source": [
    "### Dataset Upload\n",
    "\n",
    "Dataset uploaded from Drive or local"
   ]
  },
  {
   "cell_type": "code",
   "execution_count": 1,
   "metadata": {},
   "outputs": [],
   "source": [
    "import numpy as np\n",
    "import pandas as pd\n",
    "import matplotlib.pyplot as plt\n",
    "%matplotlib inline\n",
    "import seaborn as sns\n",
    "sns.set(style=\"white\")\n",
    "import re\n",
    "import nltk\n",
    "from sklearn.feature_extraction.text import ENGLISH_STOP_WORDS\n",
    "from datetime import datetime\n",
    "from sklearn.model_selection import train_test_split\n",
    "import warnings\n",
    "warnings.filterwarnings('ignore')\n",
    "from sklearn.feature_extraction.text import CountVectorizer\n",
    "from collections import defaultdict\n",
    "from nltk.stem import WordNetLemmatizer\n",
    "from sklearn.feature_extraction.text import TfidfTransformer\n",
    "from sklearn.feature_extraction.text import TfidfVectorizer\n",
    "from collections import Counter\n",
    "from nltk import word_tokenize, sent_tokenize\n",
    "from sklearn.metrics import classification_report"
   ]
  },
  {
   "cell_type": "markdown",
   "metadata": {},
   "source": [
    "### Dataset Description"
   ]
  },
  {
   "attachments": {
    "Ekran%20g%C3%B6r%C3%BCnt%C3%BCs%C3%BC%202022-11-10%20000238.png": {
     "image/png": "[encoded data removed]"
    }
   },
   "cell_type": "markdown",
   "metadata": {},
   "source": [
    "• It contains 21079 book information on each line.\n",
    "\n",
    "• I will use 80% for training and the remainder for test.\n",
    "\n",
    "• A line in the file is organized in columns:\n",
    "\n",
    "– Column 0: title\n",
    "\n",
    "– Column 1: author\n",
    "\n",
    "– Column 2: description\n",
    "\n",
    "– Column 3: coverImg\n",
    "\n",
    "– Column 4: genre\n",
    "\n",
    "• A tab separates each column\n",
    "\n",
    "• Book genres are Young Adult, Fantasy, Classics, Science Fiction, Fiction, Horror, Romance, Mystery, History, Thriller.\n",
    "### PART1\n",
    "I  will be predicting the genre of a book by the book’s description. It can be feasible with counting the number of related words in book description and match with their genre. For example, 'life', 'new','world', 'secret', 'time', 'man', 'year', 'thriller', 'killer', 'woman' word are the most frequent words in Thriller category (after data cleaning and stop words cleaning )and like 'secret', 'killer' words can be distinguishing in that case.\n",
    "You will see the frequencies below but I want to show the thriller's word frequencies for now.\n",
    "\n",
    "\n",
    "![Ekran%20g%C3%B6r%C3%BCnt%C3%BCs%C3%BC%202022-11-10%20000238.png](attachment:Ekran%20g%C3%B6r%C3%BCnt%C3%BCs%C3%BC%202022-11-10%20000238.png)\n",
    "### Data Visualization"
   ]
  },
  {
   "cell_type": "code",
   "execution_count": 2,
   "metadata": {},
   "outputs": [],
   "source": [
    "#Using the pandas framework a dataset is created using the \"book_dataset_a2.csv\" file.\n",
    "data=pd.read_csv('book_dataset_a2.csv', delimiter=\"\\t\")"
   ]
  },
  {
   "cell_type": "code",
   "execution_count": 3,
   "metadata": {},
   "outputs": [
    {
     "data": {
      "text/html": [
       "<div>\n",
       "<style scoped>\n",
       "    .dataframe tbody tr th:only-of-type {\n",
       "        vertical-align: middle;\n",
       "    }\n",
       "\n",
       "    .dataframe tbody tr th {\n",
       "        vertical-align: top;\n",
       "    }\n",
       "\n",
       "    .dataframe thead th {\n",
       "        text-align: right;\n",
       "    }\n",
       "</style>\n",
       "<table border=\"1\" class=\"dataframe\">\n",
       "  <thead>\n",
       "    <tr style=\"text-align: right;\">\n",
       "      <th></th>\n",
       "      <th>title</th>\n",
       "      <th>author</th>\n",
       "      <th>description</th>\n",
       "      <th>coverImg</th>\n",
       "      <th>genre</th>\n",
       "    </tr>\n",
       "  </thead>\n",
       "  <tbody>\n",
       "    <tr>\n",
       "      <th>0</th>\n",
       "      <td>The Hunger Games</td>\n",
       "      <td>Suzanne Collins</td>\n",
       "      <td>WINNING MEANS FAME AND FORTUNE.LOSING MEANS CE...</td>\n",
       "      <td>https://i.gr-assets.com/images/S/compressed.ph...</td>\n",
       "      <td>Young Adult</td>\n",
       "    </tr>\n",
       "    <tr>\n",
       "      <th>1</th>\n",
       "      <td>Harry Potter and the Order of the Phoenix</td>\n",
       "      <td>J.K. Rowling, Mary GrandPré (Illustrator)</td>\n",
       "      <td>There is a door at the end of a silent corrido...</td>\n",
       "      <td>https://i.gr-assets.com/images/S/compressed.ph...</td>\n",
       "      <td>Fantasy</td>\n",
       "    </tr>\n",
       "    <tr>\n",
       "      <th>2</th>\n",
       "      <td>To Kill a Mockingbird</td>\n",
       "      <td>Harper Lee</td>\n",
       "      <td>The unforgettable novel of a childhood in a sl...</td>\n",
       "      <td>https://i.gr-assets.com/images/S/compressed.ph...</td>\n",
       "      <td>Classics</td>\n",
       "    </tr>\n",
       "    <tr>\n",
       "      <th>3</th>\n",
       "      <td>Pride and Prejudice</td>\n",
       "      <td>Jane Austen, Anna Quindlen (Introduction)</td>\n",
       "      <td>Alternate cover edition of ISBN 9780679783268S...</td>\n",
       "      <td>https://i.gr-assets.com/images/S/compressed.ph...</td>\n",
       "      <td>Classics</td>\n",
       "    </tr>\n",
       "    <tr>\n",
       "      <th>4</th>\n",
       "      <td>Twilight</td>\n",
       "      <td>Stephenie Meyer</td>\n",
       "      <td>About three things I was absolutely positive.\\...</td>\n",
       "      <td>https://i.gr-assets.com/images/S/compressed.ph...</td>\n",
       "      <td>Young Adult</td>\n",
       "    </tr>\n",
       "  </tbody>\n",
       "</table>\n",
       "</div>"
      ],
      "text/plain": [
       "                                       title  \\\n",
       "0                           The Hunger Games   \n",
       "1  Harry Potter and the Order of the Phoenix   \n",
       "2                      To Kill a Mockingbird   \n",
       "3                        Pride and Prejudice   \n",
       "4                                   Twilight   \n",
       "\n",
       "                                      author  \\\n",
       "0                            Suzanne Collins   \n",
       "1  J.K. Rowling, Mary GrandPré (Illustrator)   \n",
       "2                                 Harper Lee   \n",
       "3  Jane Austen, Anna Quindlen (Introduction)   \n",
       "4                            Stephenie Meyer   \n",
       "\n",
       "                                         description  \\\n",
       "0  WINNING MEANS FAME AND FORTUNE.LOSING MEANS CE...   \n",
       "1  There is a door at the end of a silent corrido...   \n",
       "2  The unforgettable novel of a childhood in a sl...   \n",
       "3  Alternate cover edition of ISBN 9780679783268S...   \n",
       "4  About three things I was absolutely positive.\\...   \n",
       "\n",
       "                                            coverImg        genre  \n",
       "0  https://i.gr-assets.com/images/S/compressed.ph...  Young Adult  \n",
       "1  https://i.gr-assets.com/images/S/compressed.ph...      Fantasy  \n",
       "2  https://i.gr-assets.com/images/S/compressed.ph...     Classics  \n",
       "3  https://i.gr-assets.com/images/S/compressed.ph...     Classics  \n",
       "4  https://i.gr-assets.com/images/S/compressed.ph...  Young Adult  "
      ]
     },
     "execution_count": 3,
     "metadata": {},
     "output_type": "execute_result"
    }
   ],
   "source": [
    "#Displaying dataset\n",
    "data.head(5)"
   ]
  },
  {
   "cell_type": "code",
   "execution_count": 4,
   "metadata": {},
   "outputs": [
    {
     "data": {
      "text/plain": [
       "Index(['title', 'author', 'description', 'coverImg', 'genre'], dtype='object')"
      ]
     },
     "execution_count": 4,
     "metadata": {},
     "output_type": "execute_result"
    }
   ],
   "source": [
    "data.columns"
   ]
  },
  {
   "cell_type": "code",
   "execution_count": 5,
   "metadata": {},
   "outputs": [
    {
     "data": {
      "text/html": [
       "<div>\n",
       "<style scoped>\n",
       "    .dataframe tbody tr th:only-of-type {\n",
       "        vertical-align: middle;\n",
       "    }\n",
       "\n",
       "    .dataframe tbody tr th {\n",
       "        vertical-align: top;\n",
       "    }\n",
       "\n",
       "    .dataframe thead th {\n",
       "        text-align: right;\n",
       "    }\n",
       "</style>\n",
       "<table border=\"1\" class=\"dataframe\">\n",
       "  <thead>\n",
       "    <tr style=\"text-align: right;\">\n",
       "      <th></th>\n",
       "      <th>title</th>\n",
       "      <th>author</th>\n",
       "      <th>description</th>\n",
       "      <th>coverImg</th>\n",
       "    </tr>\n",
       "    <tr>\n",
       "      <th>genre</th>\n",
       "      <th></th>\n",
       "      <th></th>\n",
       "      <th></th>\n",
       "      <th></th>\n",
       "    </tr>\n",
       "  </thead>\n",
       "  <tbody>\n",
       "    <tr>\n",
       "      <th>Classics</th>\n",
       "      <td>876</td>\n",
       "      <td>876</td>\n",
       "      <td>876</td>\n",
       "      <td>876</td>\n",
       "    </tr>\n",
       "    <tr>\n",
       "      <th>Fantasy</th>\n",
       "      <td>4743</td>\n",
       "      <td>4743</td>\n",
       "      <td>4743</td>\n",
       "      <td>4743</td>\n",
       "    </tr>\n",
       "    <tr>\n",
       "      <th>Fiction</th>\n",
       "      <td>4856</td>\n",
       "      <td>4856</td>\n",
       "      <td>4856</td>\n",
       "      <td>4856</td>\n",
       "    </tr>\n",
       "    <tr>\n",
       "      <th>History</th>\n",
       "      <td>751</td>\n",
       "      <td>751</td>\n",
       "      <td>751</td>\n",
       "      <td>751</td>\n",
       "    </tr>\n",
       "    <tr>\n",
       "      <th>Horror</th>\n",
       "      <td>747</td>\n",
       "      <td>747</td>\n",
       "      <td>747</td>\n",
       "      <td>747</td>\n",
       "    </tr>\n",
       "    <tr>\n",
       "      <th>Mystery</th>\n",
       "      <td>1791</td>\n",
       "      <td>1791</td>\n",
       "      <td>1791</td>\n",
       "      <td>1791</td>\n",
       "    </tr>\n",
       "    <tr>\n",
       "      <th>Romance</th>\n",
       "      <td>2771</td>\n",
       "      <td>2771</td>\n",
       "      <td>2771</td>\n",
       "      <td>2771</td>\n",
       "    </tr>\n",
       "    <tr>\n",
       "      <th>Science Fiction</th>\n",
       "      <td>1245</td>\n",
       "      <td>1245</td>\n",
       "      <td>1245</td>\n",
       "      <td>1245</td>\n",
       "    </tr>\n",
       "    <tr>\n",
       "      <th>Thriller</th>\n",
       "      <td>434</td>\n",
       "      <td>434</td>\n",
       "      <td>434</td>\n",
       "      <td>434</td>\n",
       "    </tr>\n",
       "    <tr>\n",
       "      <th>Young Adult</th>\n",
       "      <td>2865</td>\n",
       "      <td>2865</td>\n",
       "      <td>2865</td>\n",
       "      <td>2865</td>\n",
       "    </tr>\n",
       "  </tbody>\n",
       "</table>\n",
       "</div>"
      ],
      "text/plain": [
       "                 title  author  description  coverImg\n",
       "genre                                                \n",
       "Classics           876     876          876       876\n",
       "Fantasy           4743    4743         4743      4743\n",
       "Fiction           4856    4856         4856      4856\n",
       "History            751     751          751       751\n",
       "Horror             747     747          747       747\n",
       "Mystery           1791    1791         1791      1791\n",
       "Romance           2771    2771         2771      2771\n",
       "Science Fiction   1245    1245         1245      1245\n",
       "Thriller           434     434          434       434\n",
       "Young Adult       2865    2865         2865      2865"
      ]
     },
     "execution_count": 5,
     "metadata": {},
     "output_type": "execute_result"
    }
   ],
   "source": [
    "#Group our dataset by \"genre\" and see that we have 21079 book rows dedicated to each of the 10 genres\n",
    "data.groupby('genre').count()"
   ]
  },
  {
   "cell_type": "code",
   "execution_count": 6,
   "metadata": {},
   "outputs": [
    {
     "data": {
      "text/plain": [
       "Fiction            4856\n",
       "Fantasy            4743\n",
       "Young Adult        2865\n",
       "Romance            2771\n",
       "Mystery            1791\n",
       "Science Fiction    1245\n",
       "Classics            876\n",
       "History             751\n",
       "Horror              747\n",
       "Thriller            434\n",
       "Name: genre, dtype: int64"
      ]
     },
     "execution_count": 6,
     "metadata": {},
     "output_type": "execute_result"
    }
   ],
   "source": [
    "data[\"genre\"].value_counts()"
   ]
  },
  {
   "cell_type": "code",
   "execution_count": 7,
   "metadata": {},
   "outputs": [],
   "source": [
    "birlesik_data = data[\"description\"]"
   ]
  },
  {
   "cell_type": "code",
   "execution_count": 8,
   "metadata": {},
   "outputs": [
    {
     "data": {
      "text/plain": [
       "0        WINNING MEANS FAME AND FORTUNE.LOSING MEANS CE...\n",
       "1        There is a door at the end of a silent corrido...\n",
       "2        The unforgettable novel of a childhood in a sl...\n",
       "3        Alternate cover edition of ISBN 9780679783268S...\n",
       "4        About three things I was absolutely positive.\\...\n",
       "                               ...                        \n",
       "21074    When seventeen-year-old Kara Nightingale is su...\n",
       "21075    Lilah Lopez Dreser's in town to take care of u...\n",
       "21076    'Anasazi', sequel to 'The Thirteenth Chime' by...\n",
       "21077    --READERS FAVORITE AWARDS WINNER 2011--Sixteen...\n",
       "21078    A POWERFUL TREMOR UNEARTHS AN ANCIENT SECRETBu...\n",
       "Name: description, Length: 21079, dtype: object"
      ]
     },
     "execution_count": 8,
     "metadata": {},
     "output_type": "execute_result"
    }
   ],
   "source": [
    "birlesik_data"
   ]
  },
  {
   "cell_type": "markdown",
   "metadata": {},
   "source": [
    "### Data pre-processing\n",
    "\n",
    "Preprocessing the \"description\" column and making it ready for prediction.\n",
    "\n",
    "At first the the \"description\" is traversed and only the alphabets are kept while filtering out everything else and then the alphabets are converted into lowercase.\n",
    "\n"
   ]
  },
  {
   "cell_type": "code",
   "execution_count": 9,
   "metadata": {},
   "outputs": [],
   "source": [
    "# function for text cleaning\n",
    " \n",
    "def clean(text):\n",
    "    # remove backslash-apostrophe \n",
    "    text = re.sub(\"\\'\", \"\", text) \n",
    "    # remove everything except alphabets \n",
    "    text = re.sub(\"[^a-zA-Z]\",\" \",text) \n",
    "    # remove whitespaces \n",
    "    text = ' '.join(text.split()) \n",
    "    # convert text to lowercase \n",
    "    text = text.lower() \n",
    "    \n",
    "    return text\n",
    "birlesik_data=birlesik_data.apply(lambda x: clean(x))"
   ]
  },
  {
   "cell_type": "code",
   "execution_count": 10,
   "metadata": {},
   "outputs": [
    {
     "name": "stdout",
     "output_type": "stream",
     "text": [
      "Graph to visualize the words and frequency in book's description.\n",
      "\n",
      "\n"
     ]
    },
    {
     "data": {
      "image/png": "[encoded data removed]",
      "text/plain": [
       "<Figure size 864x1080 with 1 Axes>"
      ]
     },
     "metadata": {},
     "output_type": "display_data"
    }
   ],
   "source": [
    "#Function to visualize the words and frequency in book's description.\n",
    "#print 100 most frequent words \n",
    "print(\"Graph to visualize the words and frequency in book's description.\\n\\n\")\n",
    "\n",
    "def freqwords(x, terms): \n",
    "    allwords = ' '.join([text for text in x]) \n",
    "    allwords = allwords.split() \n",
    "    fdist = nltk.FreqDist(allwords) \n",
    "    wordsdf = pd.DataFrame({'word':list(fdist.keys()), 'count':list(fdist.values())}) \n",
    "  \n",
    "  \n",
    "    d = wordsdf.nlargest(columns=\"count\", n = terms) \n",
    "  \n",
    "    # visualize words and frequencies\n",
    "    plt.figure(figsize=(12,15)) \n",
    "    ax = sns.barplot(data=d, x= \"count\", y = \"word\") \n",
    "    ax.set(ylabel = 'Word') \n",
    "    plt.show()\n",
    "  \n",
    "\n",
    "\n",
    "freqwords(data['description'], 100)"
   ]
  },
  {
   "cell_type": "code",
   "execution_count": 11,
   "metadata": {},
   "outputs": [
    {
     "data": {
      "text/plain": [
       "0        Young Adult\n",
       "1            Fantasy\n",
       "2           Classics\n",
       "3           Classics\n",
       "4        Young Adult\n",
       "            ...     \n",
       "21074        Fantasy\n",
       "21075        Romance\n",
       "21076        Mystery\n",
       "21077        Fantasy\n",
       "21078        Fiction\n",
       "Name: genre, Length: 21079, dtype: object"
      ]
     },
     "execution_count": 11,
     "metadata": {},
     "output_type": "execute_result"
    }
   ],
   "source": [
    "y = data[\"genre\"]\n",
    "y"
   ]
  },
  {
   "cell_type": "code",
   "execution_count": 12,
   "metadata": {},
   "outputs": [
    {
     "data": {
      "text/plain": [
       "'Classics'"
      ]
     },
     "execution_count": 12,
     "metadata": {},
     "output_type": "execute_result"
    }
   ],
   "source": [
    "y[5]"
   ]
  },
  {
   "cell_type": "markdown",
   "metadata": {},
   "source": [
    "### PART 2 - İmplementing Naive Bayes\n",
    "Many variants of the Naive Bayes classifier are available in the sklearn library. However, we are going to be building our own classifier from scratch using the formulas."
   ]
  },
  {
   "cell_type": "code",
   "execution_count": 13,
   "metadata": {},
   "outputs": [],
   "source": [
    "class NaiveBayesClassifier():\n",
    "    def __init__(self, alpha = 1.0):\n",
    "        self.alpha = alpha\n",
    "        self.fit()\n",
    "\n",
    "    def vector_sum(self, vector):\n",
    "        vector_sum = 0\n",
    "        for i in vector:\n",
    "            vector_sum += i\n",
    "        return vector_sum\n",
    "\n",
    "    def naive_bayes_calculation(self, x_test_row):\n",
    "        prob_fiction = self.fiction_ratio\n",
    "        prob_fantasy = self.fantasy_ratio\n",
    "        prob_young_adult = self.young_adult_ratio\n",
    "        prob_romance = self.romance_ratio\n",
    "        prob_mystery = self.mystery_ratio\n",
    "        prob_science_fiction = self.science_fiction_ratio\n",
    "        prob_history = self.history_ratio\n",
    "        prob_classics = self.classics_ratio\n",
    "        prob_horror = self.horror_ratio\n",
    "        prob_thriller = self.thriller_ratio\n",
    "\n",
    "        for i in np.where(x_test_row != 0):\n",
    "            for j in i:\n",
    "                prob_fiction *= (self.fiction_sum[j]) / (self.fiction_sum.sum())\n",
    "                prob_fantasy *= (self.fantasy_sum[j]) / (self.fantasy_sum.sum())\n",
    "                prob_young_adult *= (self.young_adult_sum[j]) / (self.young_adult_sum.sum())\n",
    "                prob_romance *= (self.romance_sum[j]) / (self.romance_sum.sum())\n",
    "                prob_mystery *= (self.mystery_sum[j]) / (self.mystery_sum.sum())\n",
    "                prob_science_fiction *= (self.science_fiction_sum[j]) / (self.science_fiction_sum.sum())\n",
    "                prob_history *= (self.history_sum[j]) / (self.history_sum.sum())\n",
    "                prob_classics *= (self.classics_sum[j]) / (self.classics_sum.sum())\n",
    "                prob_horror *= (self.horror_sum[j]) / (self.horror_sum.sum())\n",
    "                prob_thriller *= (self.thriller_sum[j]) / (self.thriller_sum.sum())\n",
    "\n",
    "\n",
    "\n",
    "        liste = [prob_fiction, prob_fantasy, prob_young_adult, prob_romance, prob_mystery, prob_science_fiction,\n",
    "                 prob_history, prob_classics, prob_horror, prob_thriller]\n",
    "\n",
    "\n",
    "        if(liste.index(max(liste)) == 0):\n",
    "            return(\"Fiction\")\n",
    "        elif(liste.index(max(liste)) == 1):\n",
    "            return(\"Fantasy\")\n",
    "        elif(liste.index(max(liste)) == 2):\n",
    "            return(\"Young Adult\")\n",
    "        elif(liste.index(max(liste)) == 3):\n",
    "            return(\"Romance\")\n",
    "        elif(liste.index(max(liste)) == 4):\n",
    "            return(\"Mystery\")\n",
    "        elif(liste.index(max(liste)) == 5):\n",
    "            return(\"Science Fiction\")\n",
    "        elif(liste.index(max(liste)) == 6):\n",
    "            return(\"History\")\n",
    "        elif(liste.index(max(liste)) == 7):\n",
    "            return(\"Classics\")\n",
    "        elif(liste.index(max(liste)) == 8):\n",
    "            return(\"Horror\")\n",
    "        elif(liste.index(max(liste)) == 9):\n",
    "            return(\"Thriller\")\n",
    "\n",
    "    def predict(self, x_test):# Gather all predictions in a list\n",
    "        self.give_values()\n",
    "        predicts = []\n",
    "        for x_test_row in x_test:\n",
    "            pred_value = self.naive_bayes_calculation(x_test_row)\n",
    "            predicts.append(pred_value)\n",
    "        return np.array(predicts)\n",
    "\n",
    "    def give_values(self):\n",
    "        fiction = list()\n",
    "        fantasy = list()\n",
    "        young_adult = list()\n",
    "        romance = list()\n",
    "        mystery = list()\n",
    "        science_fiction = list()\n",
    "        history = list()\n",
    "        classics = list()\n",
    "        horror = list()\n",
    "        thriller = list()\n",
    "\n",
    "        for i in range(len(self.y_train)):\n",
    "            if self.y_train[i] == \"Fiction\":\n",
    "                fiction.append(self.x_train[i])\n",
    "            elif self.y_train[i] == \"Fantasy\":\n",
    "                fantasy.append(self.x_train[i])\n",
    "            elif self.y_train[i] == \"Young Adult\":\n",
    "                young_adult.append(self.x_train[i])\n",
    "            elif self.y_train[i] == \"Romance\":\n",
    "                romance.append(self.x_train[i])\n",
    "            elif self.y_train[i] == \"Mystery\":\n",
    "                mystery.append(self.x_train[i])\n",
    "            elif self.y_train[i] == \"Science Fiction\":\n",
    "                science_fiction.append(self.x_train[i])\n",
    "            elif self.y_train[i] == \"History\":\n",
    "                history.append(self.x_train[i])\n",
    "            elif self.y_train[i] == \"Classics\":\n",
    "                classics.append(self.x_train[i])\n",
    "            elif self.y_train[i] == \"Horror\":\n",
    "                horror.append(self.x_train[i])\n",
    "            elif self.y_train[i] == \"Thriller\":\n",
    "                thriller.append(self.x_train[i])\n",
    "\n",
    "        fiction = np.array(fiction)\n",
    "        fantasy = np.array(fantasy)\n",
    "        young_adult = np.array(young_adult)\n",
    "        romance = np.array(romance)\n",
    "        mystery = np.array(mystery)\n",
    "        science_fiction = np.array(science_fiction)\n",
    "        history = np.array(history)\n",
    "        classics = np.array(classics)\n",
    "        horror = np.array(horror)\n",
    "        thriller = np.array(thriller)\n",
    "\n",
    "\n",
    "        self.fiction_ratio = np.log(len(fiction)) / np.log(len(self.x_train))\n",
    "        self.fantasy_ratio = np.log(len(fantasy)) / np.log(len(self.x_train))\n",
    "        \n",
    "        self.fiction_sum = np.log(self.vector_sum(fiction))\n",
    "        self.fantasy_sum = np.log(self.vector_sum(fantasy))\n",
    "\n",
    "        self.young_adult_ratio = np.log(len(young_adult)) / np.log(len(self.x_train))\n",
    "        self.romance_ratio = np.log(len(romance)) / np.log(len(self.x_train))\n",
    "        \n",
    "        self.young_adult_sum = np.log(self.vector_sum(young_adult))\n",
    "        self.romance_sum = np.log(self.vector_sum(romance))\n",
    "\n",
    "        self.mystery_ratio = np.log(len(mystery)) / np.log(len(self.x_train))\n",
    "        self.science_fiction_ratio = np.log(len(science_fiction)) / np.log(len(self.x_train))\n",
    "        \n",
    "        self.mystery_sum = np.log(self.vector_sum(mystery))\n",
    "        self.science_fiction_sum = np.log(self.vector_sum(science_fiction))\n",
    "\n",
    "        self.history_ratio = np.log(len(history)) / np.log(len(self.x_train))\n",
    "        self.classics_ratio = np.log(len(classics)) / np.log(len(self.x_train))\n",
    "        \n",
    "        self.history_sum = np.log(self.vector_sum(history))\n",
    "        self.classics_sum = np.log(self.vector_sum(classics))\n",
    "\n",
    "        self.horror_ratio = np.log(len(horror)) / np.log(len(self.x_train))\n",
    "        self.thriller_ratio = np.log(len(thriller)) / np.log(len(self.x_train))\n",
    "        \n",
    "        self.horror_sum = np.log(self.vector_sum(horror))\n",
    "        self.thriller_sum = np.log(self.vector_sum(thriller))\n",
    "\n",
    "    def fit(self, x_train = np.array([]), y_train = np.array([])):\n",
    "        self.x_train = x_train + self.alpha\n",
    "        self.y_train = y_train\n",
    "\n",
    "        self.fiction_ratio = 0\n",
    "        self.fiction_sum = 0\n",
    "\n",
    "        self.fantasy_ratio = 0\n",
    "        self.fantasy_sum = 0\n",
    "\n",
    "        self.young_adult_ratio = 0\n",
    "        self.young_adult_sum = 0\n",
    "\n",
    "        self.romance_ratio = 0\n",
    "        self.romance_sum = 0\n",
    "\n",
    "        self.mystery_ratio = 0\n",
    "        self.mystery_sum = 0\n",
    "\n",
    "        self.science_fiction_ratio = 0\n",
    "        self.science_fiction_sum = 0\n",
    "\n",
    "        self.history_ratio = 0\n",
    "        self.history_sum = 0\n",
    "\n",
    "        self.classics_ratio = 0\n",
    "        self.classics_sum = 0\n",
    "\n",
    "        self.horror_ratio = 0\n",
    "        self.horror_sum = 0\n",
    "\n",
    "        self.thriller_ratio = 0\n",
    "        self.thriller_sum = 0"
   ]
  },
  {
   "cell_type": "markdown",
   "metadata": {},
   "source": [
    "### Bag of Words\n",
    "A bag-of-words model, or BoW for short, is a way of extracting features from text for use in modeling, such as with machine learning algorithms.\n",
    "The approach is very simple and flexible, and can be used in a myriad of ways for extracting features from documents.\n",
    "A bag-of-words is a representation of text that describes the occurrence of words within a document. It involves two things:\n",
    "A vocabulary of known words.\n",
    "A measure of the presence of known words.\n",
    "It is called a “bag” of words, because any information about the order or structure of words in the document is discarded. The model is only concerned with whether known words occur in the document, not where in the document.\n",
    "\n",
    "•  Unigram: The occurrences of words in a document (frequency of the word).\n",
    "\n",
    "• Bigram: The occurrences of two adjacent words in a document.\n"
   ]
  },
  {
   "cell_type": "code",
   "execution_count": 14,
   "metadata": {},
   "outputs": [],
   "source": [
    "\n",
    "#Unigram\n",
    "vectorizer = CountVectorizer(min_df=3,ngram_range=(1, 1)).fit(birlesik_data)\n",
    "#print(\"Vocabulary size: \", len(vectorizer.vocabulary_))\n",
    "#print(\"Vocabulary:\\n\", vectorizer.get_feature_names())\n",
    "Xbow = vectorizer.fit_transform(birlesik_data).toarray()"
   ]
  },
  {
   "cell_type": "code",
   "execution_count": 15,
   "metadata": {},
   "outputs": [],
   "source": [
    "#Bigram\n",
    "#I take a random sample from data because I had memory issue\n",
    "bigramData = birlesik_data[:4000]\n",
    "vectorizer2 = CountVectorizer(min_df=3,ngram_range=(2, 2)).fit(bigramData)\n",
    "#print(\"Vocabulary size: \", len(vectorizer2.vocabulary_))\n",
    "#print(\"Vocabulary:\\n\", vectorizer2.get_feature_names())\n",
    "Xbow2 = vectorizer2.fit_transform(bigramData).toarray()"
   ]
  },
  {
   "cell_type": "code",
   "execution_count": 16,
   "metadata": {},
   "outputs": [],
   "source": [
    "def generate_N_grams(text,ngram=1):\n",
    "    words=[word for word in text.split(\" \")]\n",
    "    temp=zip(*[words[i:] for i in range(0,ngram)])\n",
    "    ans=[' '.join(ngram) for ngram in temp]\n",
    "    return ans"
   ]
  },
  {
   "cell_type": "code",
   "execution_count": 17,
   "metadata": {},
   "outputs": [],
   "source": [
    "Values=defaultdict(int)\n",
    "for text in birlesik_data:\n",
    "    for word in generate_N_grams(text,1):\n",
    "        Values[word]+=1\n",
    "df3=pd.DataFrame(sorted(Values.items(),key=lambda x:x[1],reverse=True))"
   ]
  },
  {
   "cell_type": "code",
   "execution_count": 18,
   "metadata": {},
   "outputs": [],
   "source": [
    "pd1tri=df3[0][:10]\n",
    "pd2tri=df3[1][:10]"
   ]
  },
  {
   "cell_type": "code",
   "execution_count": 19,
   "metadata": {},
   "outputs": [
    {
     "data": {
      "text/plain": [
       "Text(0.5, 1.0, 'Top 10 words in dataframe-Unigram ANALYSIS')"
      ]
     },
     "execution_count": 19,
     "metadata": {},
     "output_type": "execute_result"
    },
    {
     "data": {
      "image/png": "[encoded data removed]",
      "text/plain": [
       "<Figure size 1152x288 with 1 Axes>"
      ]
     },
     "metadata": {},
     "output_type": "display_data"
    }
   ],
   "source": [
    "plt.figure(1,figsize=(16,4))\n",
    "plt.bar(pd1tri,pd2tri, color ='green',\n",
    "        width = 0.4)\n",
    "plt.xlabel(\"Words in dataframe\")\n",
    "plt.ylabel(\"Count\")\n",
    "plt.title(\"Top 10 words in dataframe-Unigram ANALYSIS\")"
   ]
  },
  {
   "cell_type": "code",
   "execution_count": 20,
   "metadata": {},
   "outputs": [],
   "source": [
    "Values=defaultdict(int)\n",
    "for text in birlesik_data:\n",
    "    for word in generate_N_grams(text,2):\n",
    "        Values[word]+=1\n",
    "df3=pd.DataFrame(sorted(Values.items(),key=lambda x:x[1],reverse=True))"
   ]
  },
  {
   "cell_type": "code",
   "execution_count": 21,
   "metadata": {},
   "outputs": [],
   "source": [
    "pd1tri=df3[0][:10]\n",
    "pd2tri=df3[1][:10]"
   ]
  },
  {
   "cell_type": "code",
   "execution_count": 22,
   "metadata": {},
   "outputs": [
    {
     "data": {
      "text/plain": [
       "Text(0.5, 1.0, 'Top 10 words in dataframe-Bigram ANALYSIS')"
      ]
     },
     "execution_count": 22,
     "metadata": {},
     "output_type": "execute_result"
    },
    {
     "data": {
      "image/png": "[encoded data removed]",
      "text/plain": [
       "<Figure size 1152x288 with 1 Axes>"
      ]
     },
     "metadata": {},
     "output_type": "display_data"
    }
   ],
   "source": [
    "plt.figure(1,figsize=(16,4))\n",
    "plt.bar(pd1tri,pd2tri, color ='green',\n",
    "        width = 0.4)\n",
    "plt.xlabel(\"Words in dataframe\")\n",
    "plt.ylabel(\"Count\")\n",
    "plt.title(\"Top 10 words in dataframe-Bigram ANALYSIS\")"
   ]
  },
  {
   "cell_type": "markdown",
   "metadata": {},
   "source": [
    "### Predicting using BOW models"
   ]
  },
  {
   "cell_type": "code",
   "execution_count": 23,
   "metadata": {},
   "outputs": [],
   "source": [
    "X1 = Xbow[0:16863]\n",
    "X_test1 = Xbow[16863:21079] #Splitting data 80-20 for unigram model\n",
    "X2 = Xbow2[0:3200] #for bigram model\n",
    "X_test2 = Xbow2[3200:]\n",
    "nb_model1 = NaiveBayesClassifier()\n",
    "nb_model2 = NaiveBayesClassifier()"
   ]
  },
  {
   "cell_type": "code",
   "execution_count": 24,
   "metadata": {},
   "outputs": [],
   "source": [
    "nb_model1.fit(X1, y[0:16863].ravel())"
   ]
  },
  {
   "cell_type": "code",
   "execution_count": 25,
   "metadata": {},
   "outputs": [],
   "source": [
    "nb_model2.fit(X2, y[0:3200].ravel())"
   ]
  },
  {
   "cell_type": "code",
   "execution_count": 26,
   "metadata": {},
   "outputs": [],
   "source": [
    "y_pred1 = nb_model1.predict(X_test1)\n"
   ]
  },
  {
   "cell_type": "code",
   "execution_count": 27,
   "metadata": {},
   "outputs": [],
   "source": [
    "y_pred2 = nb_model2.predict(X_test2) #prediction for bigram model"
   ]
  },
  {
   "cell_type": "code",
   "execution_count": 28,
   "metadata": {},
   "outputs": [],
   "source": [
    "y_test1 = y[16863:21079]"
   ]
  },
  {
   "cell_type": "code",
   "execution_count": 29,
   "metadata": {},
   "outputs": [],
   "source": [
    "y_test2 = y[3200:4000]"
   ]
  },
  {
   "cell_type": "code",
   "execution_count": 30,
   "metadata": {},
   "outputs": [
    {
     "name": "stdout",
     "output_type": "stream",
     "text": [
      "                 precision    recall  f1-score   support\n",
      "\n",
      "       Classics       0.00      0.00      0.00       120\n",
      "        Fantasy       0.14      0.00      0.01       826\n",
      "        Fiction       0.19      0.65      0.30       858\n",
      "        History       0.21      0.30      0.24       237\n",
      "         Horror       0.00      0.00      0.00       120\n",
      "        Mystery       0.00      0.00      0.00       543\n",
      "        Romance       0.26      0.02      0.04       735\n",
      "Science Fiction       0.00      0.00      0.00       273\n",
      "       Thriller       0.02      0.17      0.03        90\n",
      "    Young Adult       0.00      0.00      0.00       414\n",
      "\n",
      "       accuracy                           0.16      4216\n",
      "      macro avg       0.08      0.11      0.06      4216\n",
      "   weighted avg       0.12      0.16      0.08      4216\n",
      "\n"
     ]
    }
   ],
   "source": [
    "print(classification_report(y_test1, y_pred1)) #unigram classification report"
   ]
  },
  {
   "cell_type": "markdown",
   "metadata": {},
   "source": [
    "Accuracy is too low because there is lots of common words and I hadn't cleaned them yet. Actually I didn't expect this low."
   ]
  },
  {
   "cell_type": "code",
   "execution_count": 31,
   "metadata": {
    "scrolled": true
   },
   "outputs": [
    {
     "name": "stdout",
     "output_type": "stream",
     "text": [
      "                 precision    recall  f1-score   support\n",
      "\n",
      "       Classics       0.00      0.00      0.00        43\n",
      "        Fantasy       0.44      0.35      0.39       212\n",
      "        Fiction       0.28      0.94      0.43       188\n",
      "        History       0.00      0.00      0.00        18\n",
      "         Horror       0.00      0.00      0.00        25\n",
      "        Mystery       0.00      0.00      0.00        47\n",
      "        Romance       0.00      0.00      0.00        82\n",
      "Science Fiction       0.00      0.00      0.00        41\n",
      "       Thriller       0.00      0.00      0.00        13\n",
      "    Young Adult       0.83      0.04      0.07       131\n",
      "\n",
      "       accuracy                           0.32       800\n",
      "      macro avg       0.16      0.13      0.09       800\n",
      "   weighted avg       0.32      0.32      0.22       800\n",
      "\n"
     ]
    }
   ],
   "source": [
    "print(classification_report(y_test2, y_pred2)) #bigram classification report"
   ]
  },
  {
   "cell_type": "markdown",
   "metadata": {},
   "source": [
    "It's accuracy is more higher because I got an RAM issue (despite I changed it 8GB to 16GB yesterday :( ) and I decided to get a sample from data. Maybe sampled data has more specific words than actual data"
   ]
  },
  {
   "cell_type": "code",
   "execution_count": 32,
   "metadata": {},
   "outputs": [
    {
     "data": {
      "text/html": [
       "<div>\n",
       "<style scoped>\n",
       "    .dataframe tbody tr th:only-of-type {\n",
       "        vertical-align: middle;\n",
       "    }\n",
       "\n",
       "    .dataframe tbody tr th {\n",
       "        vertical-align: top;\n",
       "    }\n",
       "\n",
       "    .dataframe thead th {\n",
       "        text-align: right;\n",
       "    }\n",
       "</style>\n",
       "<table border=\"1\" class=\"dataframe\">\n",
       "  <thead>\n",
       "    <tr style=\"text-align: right;\">\n",
       "      <th></th>\n",
       "      <th>title</th>\n",
       "      <th>author</th>\n",
       "      <th>description</th>\n",
       "      <th>coverImg</th>\n",
       "    </tr>\n",
       "    <tr>\n",
       "      <th>genre</th>\n",
       "      <th></th>\n",
       "      <th></th>\n",
       "      <th></th>\n",
       "      <th></th>\n",
       "    </tr>\n",
       "  </thead>\n",
       "  <tbody>\n",
       "    <tr>\n",
       "      <th>Classics</th>\n",
       "      <td>367</td>\n",
       "      <td>367</td>\n",
       "      <td>367</td>\n",
       "      <td>367</td>\n",
       "    </tr>\n",
       "    <tr>\n",
       "      <th>Fantasy</th>\n",
       "      <td>806</td>\n",
       "      <td>806</td>\n",
       "      <td>806</td>\n",
       "      <td>806</td>\n",
       "    </tr>\n",
       "    <tr>\n",
       "      <th>Fiction</th>\n",
       "      <td>860</td>\n",
       "      <td>860</td>\n",
       "      <td>860</td>\n",
       "      <td>860</td>\n",
       "    </tr>\n",
       "    <tr>\n",
       "      <th>History</th>\n",
       "      <td>32</td>\n",
       "      <td>32</td>\n",
       "      <td>32</td>\n",
       "      <td>32</td>\n",
       "    </tr>\n",
       "    <tr>\n",
       "      <th>Horror</th>\n",
       "      <td>117</td>\n",
       "      <td>117</td>\n",
       "      <td>117</td>\n",
       "      <td>117</td>\n",
       "    </tr>\n",
       "    <tr>\n",
       "      <th>Mystery</th>\n",
       "      <td>129</td>\n",
       "      <td>129</td>\n",
       "      <td>129</td>\n",
       "      <td>129</td>\n",
       "    </tr>\n",
       "    <tr>\n",
       "      <th>Romance</th>\n",
       "      <td>206</td>\n",
       "      <td>206</td>\n",
       "      <td>206</td>\n",
       "      <td>206</td>\n",
       "    </tr>\n",
       "    <tr>\n",
       "      <th>Science Fiction</th>\n",
       "      <td>153</td>\n",
       "      <td>153</td>\n",
       "      <td>153</td>\n",
       "      <td>153</td>\n",
       "    </tr>\n",
       "    <tr>\n",
       "      <th>Thriller</th>\n",
       "      <td>32</td>\n",
       "      <td>32</td>\n",
       "      <td>32</td>\n",
       "      <td>32</td>\n",
       "    </tr>\n",
       "    <tr>\n",
       "      <th>Young Adult</th>\n",
       "      <td>498</td>\n",
       "      <td>498</td>\n",
       "      <td>498</td>\n",
       "      <td>498</td>\n",
       "    </tr>\n",
       "  </tbody>\n",
       "</table>\n",
       "</div>"
      ],
      "text/plain": [
       "                 title  author  description  coverImg\n",
       "genre                                                \n",
       "Classics           367     367          367       367\n",
       "Fantasy            806     806          806       806\n",
       "Fiction            860     860          860       860\n",
       "History             32      32           32        32\n",
       "Horror             117     117          117       117\n",
       "Mystery            129     129          129       129\n",
       "Romance            206     206          206       206\n",
       "Science Fiction    153     153          153       153\n",
       "Thriller            32      32           32        32\n",
       "Young Adult        498     498          498       498"
      ]
     },
     "execution_count": 32,
     "metadata": {},
     "output_type": "execute_result"
    }
   ],
   "source": [
    "data[:3200].groupby('genre').count() #Here is you see the distribution of sampled data I used."
   ]
  },
  {
   "cell_type": "markdown",
   "metadata": {},
   "source": [
    "### Frequiencies"
   ]
  },
  {
   "cell_type": "code",
   "execution_count": 33,
   "metadata": {},
   "outputs": [],
   "source": [
    "def frequencies(words_list):\n",
    "    freqs = {}\n",
    "    for i in words_list:\n",
    "        for j in i:\n",
    "            if j not in freqs:\n",
    "                freqs[j] = 0\n",
    "            else:\n",
    "                freqs[j] += 1\n",
    "    return freqs"
   ]
  },
  {
   "cell_type": "code",
   "execution_count": 34,
   "metadata": {},
   "outputs": [],
   "source": [
    "def most_frequent_words(dictionary, value_number):\n",
    "    liste = sorted(dictionary, key=dictionary.get, reverse=True)[:value_number]\n",
    "    dictt = {}\n",
    "    for i in range(len(liste)):\n",
    "        dictt[liste[i]]= dictionary.get(liste[i])\n",
    "    return dictt"
   ]
  },
  {
   "cell_type": "code",
   "execution_count": 35,
   "metadata": {},
   "outputs": [],
   "source": [
    "\n",
    "tokens =birlesik_data.apply(word_tokenize)"
   ]
  },
  {
   "cell_type": "code",
   "execution_count": 36,
   "metadata": {},
   "outputs": [
    {
     "data": {
      "text/plain": [
       "0    [winning, means, fame, and, fortune, losing, m...\n",
       "1    [there, is, a, door, at, the, end, of, a, sile...\n",
       "2    [the, unforgettable, novel, of, a, childhood, ...\n",
       "3    [alternate, cover, edition, of, isbn, since, i...\n",
       "4    [about, three, things, i, was, absolutely, pos...\n",
       "Name: description, dtype: object"
      ]
     },
     "execution_count": 36,
     "metadata": {},
     "output_type": "execute_result"
    }
   ],
   "source": [
    "tokens.head()"
   ]
  },
  {
   "cell_type": "code",
   "execution_count": 37,
   "metadata": {},
   "outputs": [],
   "source": [
    "y = data[\"genre\"]"
   ]
  },
  {
   "cell_type": "code",
   "execution_count": 38,
   "metadata": {
    "pycharm": {
     "is_executing": true
    }
   },
   "outputs": [],
   "source": [
    "ClassicsSet = list()\n",
    "FantasySet = list()\n",
    "FictionSet = list()\n",
    "HistorySet = list()\n",
    "HorrorSet = list()\n",
    "MysterySet = list()\n",
    "RomanceSet = list()\n",
    "ScienceFictionSet = list()\n",
    "ThrillerSet = list()\n",
    "YoungAdultSet = list()"
   ]
  },
  {
   "cell_type": "code",
   "execution_count": 39,
   "metadata": {},
   "outputs": [],
   "source": [
    "for i in range(len(tokens)):\n",
    "    if y[i] == \"Classics\":\n",
    "        ClassicsSet.append(tokens[i])\n",
    "    elif y[i] == \"Fantasy\":\n",
    "        FantasySet.append(tokens[i]) \n",
    "    elif y[i] == \"Fiction\":\n",
    "        FictionSet.append(tokens[i]) \n",
    "    elif y[i] == \"History\":\n",
    "        HistorySet.append(tokens[i]) \n",
    "    elif y[i] == \"Horror\":\n",
    "        HorrorSet.append(tokens[i])\n",
    "    elif y[i] == \"Mystery\":\n",
    "        MysterySet.append(tokens[i])\n",
    "    elif y[i] == \"Romance\":\n",
    "        RomanceSet.append(tokens[i]) \n",
    "    elif y[i] == \"Science Fiction\":\n",
    "        ScienceFictionSet.append(tokens[i]) \n",
    "    elif y[i] == \"Thriller\":\n",
    "        ThrillerSet.append(tokens[i])\n",
    "    elif y[i] == \"Young Adult\":\n",
    "        YoungAdultSet.append(tokens[i])"
   ]
  },
  {
   "cell_type": "markdown",
   "metadata": {},
   "source": [
    "#### Displaying the 10 most frequent values for each category"
   ]
  },
  {
   "cell_type": "code",
   "execution_count": 40,
   "metadata": {},
   "outputs": [
    {
     "data": {
      "text/plain": [
       "{'the': 7245,\n",
       " 'of': 4948,\n",
       " 'and': 4126,\n",
       " 'a': 2958,\n",
       " 'in': 2208,\n",
       " 'to': 1987,\n",
       " 'is': 1337,\n",
       " 'his': 1104,\n",
       " 'with': 836,\n",
       " 'as': 835}"
      ]
     },
     "execution_count": 40,
     "metadata": {},
     "output_type": "execute_result"
    }
   ],
   "source": [
    "Classics_freqs = frequencies(ClassicsSet)\n",
    "most_frequent_words(Classics_freqs,10)\n"
   ]
  },
  {
   "cell_type": "code",
   "execution_count": 41,
   "metadata": {},
   "outputs": [
    {
     "data": {
      "text/plain": [
       "{'the': 10177,\n",
       " 'of': 6555,\n",
       " 'and': 5207,\n",
       " 'a': 3035,\n",
       " 'in': 2740,\n",
       " 'to': 2649,\n",
       " 'that': 1070,\n",
       " 'as': 1049,\n",
       " 'is': 943,\n",
       " 'his': 907}"
      ]
     },
     "execution_count": 41,
     "metadata": {},
     "output_type": "execute_result"
    }
   ],
   "source": [
    "History_freqs = frequencies(HistorySet)\n",
    "most_frequent_words(History_freqs,10)"
   ]
  },
  {
   "cell_type": "code",
   "execution_count": 42,
   "metadata": {},
   "outputs": [
    {
     "data": {
      "text/plain": [
       "{'the': 14932,\n",
       " 'a': 9035,\n",
       " 'and': 7767,\n",
       " 'of': 7111,\n",
       " 'to': 6879,\n",
       " 'in': 4501,\n",
       " 'is': 4171,\n",
       " 'her': 3751,\n",
       " 'his': 2265,\n",
       " 'that': 2204}"
      ]
     },
     "execution_count": 42,
     "metadata": {},
     "output_type": "execute_result"
    }
   ],
   "source": [
    "Mystery_freqs = frequencies(MysterySet)\n",
    "most_frequent_words(Mystery_freqs,10)"
   ]
  },
  {
   "cell_type": "code",
   "execution_count": 43,
   "metadata": {},
   "outputs": [
    {
     "data": {
      "text/plain": [
       "{'the': 19730,\n",
       " 'to': 14502,\n",
       " 'and': 14303,\n",
       " 'a': 13345,\n",
       " 'her': 10474,\n",
       " 'of': 9673,\n",
       " 'in': 6875,\n",
       " 'is': 6815,\n",
       " 'she': 6620,\n",
       " 'he': 5420}"
      ]
     },
     "execution_count": 43,
     "metadata": {},
     "output_type": "execute_result"
    }
   ],
   "source": [
    "Romance_freqs = frequencies(RomanceSet)\n",
    "most_frequent_words(Romance_freqs,10)"
   ]
  },
  {
   "cell_type": "code",
   "execution_count": 44,
   "metadata": {},
   "outputs": [
    {
     "data": {
      "text/plain": [
       "{'the': 4094,\n",
       " 'a': 2606,\n",
       " 'and': 2113,\n",
       " 'of': 1890,\n",
       " 'to': 1887,\n",
       " 'in': 1191,\n",
       " 'is': 1162,\n",
       " 'that': 753,\n",
       " 'her': 707,\n",
       " 'his': 698}"
      ]
     },
     "execution_count": 44,
     "metadata": {},
     "output_type": "execute_result"
    }
   ],
   "source": [
    "Thriller_freqs = frequencies(ThrillerSet)\n",
    "most_frequent_words(Thriller_freqs,10)"
   ]
  },
  {
   "cell_type": "markdown",
   "metadata": {},
   "source": [
    "### PART 3- Error Analysis"
   ]
  },
  {
   "cell_type": "code",
   "execution_count": 45,
   "metadata": {},
   "outputs": [],
   "source": [
    "y_test=tuple(y_test1)\n",
    "a=pd.DataFrame(y_test, columns=[\"GenreOrj\"])\n",
    "b=pd.DataFrame(y_pred1, columns=[\"GenrePredicted\"])"
   ]
  },
  {
   "cell_type": "code",
   "execution_count": 46,
   "metadata": {},
   "outputs": [
    {
     "data": {
      "text/html": [
       "<div>\n",
       "<style scoped>\n",
       "    .dataframe tbody tr th:only-of-type {\n",
       "        vertical-align: middle;\n",
       "    }\n",
       "\n",
       "    .dataframe tbody tr th {\n",
       "        vertical-align: top;\n",
       "    }\n",
       "\n",
       "    .dataframe thead th {\n",
       "        text-align: right;\n",
       "    }\n",
       "</style>\n",
       "<table border=\"1\" class=\"dataframe\">\n",
       "  <thead>\n",
       "    <tr style=\"text-align: right;\">\n",
       "      <th></th>\n",
       "      <th>GenreOrj</th>\n",
       "      <th>GenrePredicted</th>\n",
       "    </tr>\n",
       "  </thead>\n",
       "  <tbody>\n",
       "    <tr>\n",
       "      <th>0</th>\n",
       "      <td>Horror</td>\n",
       "      <td>Thriller</td>\n",
       "    </tr>\n",
       "    <tr>\n",
       "      <th>1</th>\n",
       "      <td>Fiction</td>\n",
       "      <td>History</td>\n",
       "    </tr>\n",
       "    <tr>\n",
       "      <th>2</th>\n",
       "      <td>Fiction</td>\n",
       "      <td>Fiction</td>\n",
       "    </tr>\n",
       "    <tr>\n",
       "      <th>3</th>\n",
       "      <td>Fantasy</td>\n",
       "      <td>Thriller</td>\n",
       "    </tr>\n",
       "    <tr>\n",
       "      <th>4</th>\n",
       "      <td>Science Fiction</td>\n",
       "      <td>Thriller</td>\n",
       "    </tr>\n",
       "    <tr>\n",
       "      <th>5</th>\n",
       "      <td>Fantasy</td>\n",
       "      <td>Thriller</td>\n",
       "    </tr>\n",
       "    <tr>\n",
       "      <th>6</th>\n",
       "      <td>Mystery</td>\n",
       "      <td>Fiction</td>\n",
       "    </tr>\n",
       "    <tr>\n",
       "      <th>7</th>\n",
       "      <td>Romance</td>\n",
       "      <td>Fiction</td>\n",
       "    </tr>\n",
       "    <tr>\n",
       "      <th>8</th>\n",
       "      <td>Mystery</td>\n",
       "      <td>Fiction</td>\n",
       "    </tr>\n",
       "    <tr>\n",
       "      <th>9</th>\n",
       "      <td>Fiction</td>\n",
       "      <td>Fiction</td>\n",
       "    </tr>\n",
       "    <tr>\n",
       "      <th>10</th>\n",
       "      <td>Fantasy</td>\n",
       "      <td>Fiction</td>\n",
       "    </tr>\n",
       "    <tr>\n",
       "      <th>11</th>\n",
       "      <td>Fiction</td>\n",
       "      <td>History</td>\n",
       "    </tr>\n",
       "    <tr>\n",
       "      <th>12</th>\n",
       "      <td>Fantasy</td>\n",
       "      <td>Fiction</td>\n",
       "    </tr>\n",
       "    <tr>\n",
       "      <th>13</th>\n",
       "      <td>Romance</td>\n",
       "      <td>Fiction</td>\n",
       "    </tr>\n",
       "    <tr>\n",
       "      <th>14</th>\n",
       "      <td>Fantasy</td>\n",
       "      <td>Fiction</td>\n",
       "    </tr>\n",
       "  </tbody>\n",
       "</table>\n",
       "</div>"
      ],
      "text/plain": [
       "           GenreOrj GenrePredicted\n",
       "0            Horror       Thriller\n",
       "1           Fiction        History\n",
       "2           Fiction        Fiction\n",
       "3           Fantasy       Thriller\n",
       "4   Science Fiction       Thriller\n",
       "5           Fantasy       Thriller\n",
       "6           Mystery        Fiction\n",
       "7           Romance        Fiction\n",
       "8           Mystery        Fiction\n",
       "9           Fiction        Fiction\n",
       "10          Fantasy        Fiction\n",
       "11          Fiction        History\n",
       "12          Fantasy        Fiction\n",
       "13          Romance        Fiction\n",
       "14          Fantasy        Fiction"
      ]
     },
     "execution_count": 46,
     "metadata": {},
     "output_type": "execute_result"
    }
   ],
   "source": [
    "c = pd.concat([a, b], axis=1, join='inner')\n",
    "c.head(15)"
   ]
  },
  {
   "cell_type": "code",
   "execution_count": 47,
   "metadata": {},
   "outputs": [],
   "source": [
    "#As you see; 0th, 4th, 6th books are missclasified. Let's check why."
   ]
  },
  {
   "cell_type": "code",
   "execution_count": 48,
   "metadata": {},
   "outputs": [
    {
     "data": {
      "text/plain": [
       "[('s', 6),\n",
       " ('becka', 5),\n",
       " ('honey', 4),\n",
       " ('she', 4),\n",
       " ('best', 3),\n",
       " ('in', 3),\n",
       " ('friend', 3),\n",
       " ('more', 3),\n",
       " ('to', 2),\n",
       " ('the', 2),\n",
       " ('but', 2),\n",
       " ('does', 2),\n",
       " ('want', 2),\n",
       " ('friends', 1),\n",
       " ('end', 1),\n",
       " ('who', 1),\n",
       " ('is', 1),\n",
       " ('perkins', 1),\n",
       " ('been', 1),\n",
       " ('telling', 1)]"
      ]
     },
     "execution_count": 48,
     "metadata": {},
     "output_type": "execute_result"
    }
   ],
   "source": [
    "\n",
    "Counter(tokens[16863]).most_common(20)\n",
    "# the most common words are;"
   ]
  },
  {
   "cell_type": "markdown",
   "metadata": {},
   "source": [
    "It predicted as Romance because its most frequent words(like friend, honey,,,)-after stopwords- are more common and similar to Romance. \n"
   ]
  },
  {
   "cell_type": "code",
   "execution_count": 49,
   "metadata": {},
   "outputs": [
    {
     "data": {
      "text/plain": [
       "[('in', 3),\n",
       " ('an', 2),\n",
       " ('he', 2),\n",
       " ('another', 2),\n",
       " ('peter', 1),\n",
       " ('sinclair', 1),\n",
       " ('is', 1),\n",
       " ('tormented', 1),\n",
       " ('by', 1),\n",
       " ('bereavement', 1),\n",
       " ('and', 1),\n",
       " ('failure', 1),\n",
       " ('attempt', 1),\n",
       " ('to', 1),\n",
       " ('conjure', 1),\n",
       " ('some', 1),\n",
       " ('meaning', 1),\n",
       " ('from', 1),\n",
       " ('his', 1),\n",
       " ('life', 1)]"
      ]
     },
     "execution_count": 49,
     "metadata": {},
     "output_type": "execute_result"
    }
   ],
   "source": [
    "Counter(tokens[16867]).most_common(20)\n",
    "# the most common words are;;"
   ]
  },
  {
   "cell_type": "markdown",
   "metadata": {},
   "source": [
    "It is given as science fiction but predicted as fiction.\n",
    "\n",
    "The words like life, story and man classified this book as fiction."
   ]
  },
  {
   "cell_type": "code",
   "execution_count": 50,
   "metadata": {},
   "outputs": [
    {
     "data": {
      "text/plain": [
       "[('a', 6),\n",
       " ('the', 6),\n",
       " ('of', 4),\n",
       " ('alex', 3),\n",
       " ('into', 3),\n",
       " ('past', 2),\n",
       " ('sharon', 2),\n",
       " ('an', 2),\n",
       " ('him', 2),\n",
       " ('that', 2),\n",
       " ('and', 2),\n",
       " ('at', 1),\n",
       " ('party', 1),\n",
       " ('for', 1),\n",
       " ('controversial', 1),\n",
       " ('los', 1),\n",
       " ('angeles', 1),\n",
       " ('sex', 1),\n",
       " ('therapist', 1),\n",
       " ('encounters', 1)]"
      ]
     },
     "execution_count": 50,
     "metadata": {},
     "output_type": "execute_result"
    }
   ],
   "source": [
    "Counter(tokens[16869]).most_common(20)\n",
    "# the most common words are;"
   ]
  },
  {
   "cell_type": "markdown",
   "metadata": {},
   "source": [
    "It is given as mystery but predicted as science fiction. There is not much specific words. Apperantly my code classified it with calculating the occurances "
   ]
  },
  {
   "cell_type": "markdown",
   "metadata": {},
   "source": [
    "###### The main reason for classifying Fiction or Romance instead of Science fiction, Mystery vs. my dataset is not distributed clearly on categories. That's why the word frequencies are a lot more if compared with others."
   ]
  },
  {
   "cell_type": "markdown",
   "metadata": {},
   "source": [
    "### TF-IDF\n",
    "Term Frequency (TF)\n",
    "The number of times a word appears in a document divided by the total number of words in the document. Every document has its own term frequency.\n",
    "\n",
    "Inverse Data Frequency (IDF)\n",
    "The log of the number of documents divided by the number of documents that contain the word w. Inverse data frequency determines the weight of rare words across all documents in the corpus."
   ]
  },
  {
   "cell_type": "code",
   "execution_count": 51,
   "metadata": {},
   "outputs": [],
   "source": [
    "Classics_Data = data[data[\"genre\"] == \"Classics\"].drop(columns=[\"title\",\"author\",\"coverImg\",\"genre\"]).squeeze()\n",
    "Fantasy_Data = data[data[\"genre\"] == \"Fantasy\"].drop(columns=[\"title\",\"author\",\"coverImg\",\"genre\"]).squeeze()\n",
    "Fiction_Data = data[data[\"genre\"] == \"Fiction\"].drop(columns=[\"title\",\"author\",\"coverImg\",\"genre\"]).squeeze()\n",
    "History_Data = data[data[\"genre\"] == \"History\"].drop(columns=[\"title\",\"author\",\"coverImg\",\"genre\"]).squeeze()\n",
    "Horror_Data = data[data[\"genre\"] == \"Horror\"].drop(columns=[\"title\",\"author\",\"coverImg\",\"genre\"]).squeeze()\n",
    "Mystery_Data = data[data[\"genre\"] == \"Mystery\"].drop(columns=[\"title\",\"author\",\"coverImg\",\"genre\"]).squeeze()\n",
    "Romance_Data = data[data[\"genre\"] == \"Romance\"].drop(columns=[\"title\",\"author\",\"coverImg\",\"genre\"]).squeeze()\n",
    "ScienceFiction_Data = data[data[\"genre\"] == \"Science Fiction\"].drop(columns=[\"title\",\"author\",\"coverImg\",\"genre\"]).squeeze()\n",
    "Thriller_Data = data[data[\"genre\"] == \"Thriller\"].drop(columns=[\"title\",\"author\",\"coverImg\",\"genre\"]).squeeze()\n",
    "YoungAdult_Data = data[data[\"genre\"] == \"Young Adult\"].drop(columns=[\"title\",\"author\",\"coverImg\",\"genre\"]).squeeze()\n",
    "birlesik_data2 = birlesik_data.squeeze()"
   ]
  },
  {
   "cell_type": "code",
   "execution_count": 52,
   "metadata": {},
   "outputs": [],
   "source": [
    "count1 = CountVectorizer()\n",
    "count2 = CountVectorizer()\n",
    "count3 = CountVectorizer()\n",
    "count4 = CountVectorizer()\n",
    "count5 = CountVectorizer()\n",
    "count6 = CountVectorizer()\n",
    "count7 = CountVectorizer()\n",
    "count8 = CountVectorizer()\n",
    "count9 = CountVectorizer()\n",
    "count10 = CountVectorizer()\n",
    "count11 = CountVectorizer()"
   ]
  },
  {
   "cell_type": "code",
   "execution_count": 53,
   "metadata": {},
   "outputs": [],
   "source": [
    "# get tf-df values\n",
    "resultClassic = count1.fit_transform(Classics_Data)\n",
    "resultFantasy = count2.fit_transform(Fantasy_Data)\n",
    "resultFiction = count3.fit_transform(Fiction_Data)\n",
    "resultHistory = count4.fit_transform(History_Data)\n",
    "resultHorror = count5.fit_transform(Horror_Data)\n",
    "resultMystery = count6.fit_transform(Mystery_Data)\n",
    "resultRomance = count7.fit_transform(Romance_Data)\n",
    "resultScienceFiction = count8.fit_transform(ScienceFiction_Data)\n",
    "resultThriller = count9.fit_transform(Thriller_Data)\n",
    "resultYoungAdult = count10.fit_transform(YoungAdult_Data)\n",
    "resultBirlesikData = count11.fit_transform(birlesik_data2)"
   ]
  },
  {
   "cell_type": "code",
   "execution_count": 54,
   "metadata": {},
   "outputs": [
    {
     "name": "stdout",
     "output_type": "stream",
     "text": [
      "  (0, 12900)\t4\n",
      "  (0, 13518)\t1\n",
      "  (0, 8927)\t1\n",
      "  (0, 9032)\t4\n",
      "  (0, 2386)\t1\n",
      "  (0, 6629)\t4\n",
      "  (0, 11941)\t1\n",
      "  (0, 12100)\t1\n",
      "  (0, 13140)\t1\n",
      "  (0, 860)\t9\n",
      "  (0, 3167)\t1\n",
      "  (0, 2855)\t1\n",
      "  (0, 12898)\t1\n",
      "  (0, 11105)\t1\n",
      "  (0, 7011)\t4\n",
      "  (0, 13058)\t6\n",
      "  (0, 7281)\t2\n",
      "  (0, 8428)\t2\n",
      "  (0, 1481)\t1\n",
      "  (0, 1794)\t1\n",
      "  (0, 845)\t2\n",
      "  (0, 6834)\t1\n",
      "  (0, 1594)\t1\n",
      "  (0, 3171)\t1\n",
      "  (0, 12485)\t1\n",
      "  :\t:\n",
      "  (875, 6629)\t1\n",
      "  (875, 1771)\t1\n",
      "  (875, 6986)\t2\n",
      "  (875, 9086)\t1\n",
      "  (875, 7974)\t1\n",
      "  (875, 12973)\t1\n",
      "  (875, 14120)\t1\n",
      "  (875, 14244)\t1\n",
      "  (875, 9140)\t1\n",
      "  (875, 5790)\t1\n",
      "  (875, 2313)\t1\n",
      "  (875, 2472)\t1\n",
      "  (875, 4764)\t1\n",
      "  (875, 14380)\t1\n",
      "  (875, 7734)\t1\n",
      "  (875, 13068)\t1\n",
      "  (875, 450)\t1\n",
      "  (875, 11499)\t1\n",
      "  (875, 12419)\t1\n",
      "  (875, 9730)\t1\n",
      "  (875, 5058)\t1\n",
      "  (875, 63)\t1\n",
      "  (875, 11165)\t1\n",
      "  (875, 2437)\t1\n",
      "  (875, 6063)\t1\n"
     ]
    }
   ],
   "source": [
    "print(resultClassic)"
   ]
  },
  {
   "cell_type": "code",
   "execution_count": 55,
   "metadata": {},
   "outputs": [
    {
     "name": "stdout",
     "output_type": "stream",
     "text": [
      "(876, 14517)\n"
     ]
    }
   ],
   "source": [
    "print(resultClassic.shape)"
   ]
  },
  {
   "cell_type": "code",
   "execution_count": 56,
   "metadata": {},
   "outputs": [],
   "source": [
    "#in Classics genre, We had taken 876 sentences, and there are 14517 unique words, so the shape is 876/14517."
   ]
  },
  {
   "cell_type": "code",
   "execution_count": 57,
   "metadata": {},
   "outputs": [],
   "source": [
    "tfidf1_transformer=TfidfTransformer(smooth_idf=True,use_idf=True)\n",
    "tfidf1_transformer.fit(resultClassic)\n",
    "tfidf2_transformer=TfidfTransformer(smooth_idf=True,use_idf=True)\n",
    "tfidf2_transformer.fit(resultFantasy)\n",
    "tfidf3_transformer=TfidfTransformer(smooth_idf=True,use_idf=True)\n",
    "tfidf3_transformer.fit(resultFiction)\n",
    "tfidf4_transformer=TfidfTransformer(smooth_idf=True,use_idf=True)\n",
    "tfidf4_transformer.fit(resultHistory)\n",
    "tfidf5_transformer=TfidfTransformer(smooth_idf=True,use_idf=True)\n",
    "tfidf5_transformer.fit(resultHorror)\n",
    "tfidf6_transformer=TfidfTransformer(smooth_idf=True,use_idf=True)\n",
    "tfidf6_transformer.fit(resultMystery)\n",
    "tfidf7_transformer=TfidfTransformer(smooth_idf=True,use_idf=True)\n",
    "tfidf7_transformer.fit(resultRomance)\n",
    "tfidf8_transformer=TfidfTransformer(smooth_idf=True,use_idf=True)\n",
    "tfidf8_transformer.fit(resultScienceFiction)\n",
    "tfidf9_transformer=TfidfTransformer(smooth_idf=True,use_idf=True)\n",
    "tfidf9_transformer.fit(resultThriller)\n",
    "tfidf10_transformer=TfidfTransformer(smooth_idf=True,use_idf=True)\n",
    "tfidf10_transformer.fit(resultYoungAdult)\n",
    "tfidf11_transformer=TfidfTransformer(smooth_idf=True,use_idf=True)\n",
    "tfidf11_transformer.fit(resultBirlesikData)\n",
    "df_idfCls = (pd.DataFrame(tfidf1_transformer.idf_, index=count1.get_feature_names(),columns=[\"idf_weights\"])).sort_values(by=['idf_weights'],ascending = True)\n",
    "df_idfFnt = (pd.DataFrame(tfidf2_transformer.idf_, index=count2.get_feature_names(),columns=[\"idf_weights\"])).sort_values(by=['idf_weights'],ascending = True)\n",
    "df_idfFc = (pd.DataFrame(tfidf3_transformer.idf_, index=count3.get_feature_names(),columns=[\"idf_weights\"])).sort_values(by=['idf_weights'],ascending = True)\n",
    "df_idfHs = (pd.DataFrame(tfidf4_transformer.idf_, index=count4.get_feature_names(),columns=[\"idf_weights\"])).sort_values(by=['idf_weights'],ascending = True)\n",
    "df_idfHr = (pd.DataFrame(tfidf5_transformer.idf_, index=count5.get_feature_names(),columns=[\"idf_weights\"])).sort_values(by=['idf_weights'],ascending = True)\n",
    "df_idfMy = (pd.DataFrame(tfidf6_transformer.idf_, index=count6.get_feature_names(),columns=[\"idf_weights\"])).sort_values(by=['idf_weights'],ascending = True)\n",
    "df_idfRm = (pd.DataFrame(tfidf7_transformer.idf_, index=count7.get_feature_names(),columns=[\"idf_weights\"])).sort_values(by=['idf_weights'],ascending = True)\n",
    "df_idfSf = (pd.DataFrame(tfidf8_transformer.idf_, index=count8.get_feature_names(),columns=[\"idf_weights\"])).sort_values(by=['idf_weights'],ascending = True)\n",
    "df_idfTh = (pd.DataFrame(tfidf9_transformer.idf_, index=count9.get_feature_names(),columns=[\"idf_weights\"])).sort_values(by=['idf_weights'],ascending = True)\n",
    "df_idfYa = (pd.DataFrame(tfidf10_transformer.idf_, index=count10.get_feature_names(),columns=[\"idf_weights\"])).sort_values(by=['idf_weights'],ascending = True)\n",
    "df_idBirlesikData = (pd.DataFrame(tfidf11_transformer.idf_, index=count11.get_feature_names(),columns=[\"idf_weights\"])).sort_values(by=['idf_weights'],ascending = True)\n"
   ]
  },
  {
   "cell_type": "markdown",
   "metadata": {},
   "source": [
    "#### Stopwords Cleaning Code"
   ]
  },
  {
   "cell_type": "code",
   "execution_count": 58,
   "metadata": {},
   "outputs": [
    {
     "name": "stderr",
     "output_type": "stream",
     "text": [
      "[nltk_data] Downloading package wordnet to\n",
      "[nltk_data]     C:\\Users\\saren\\AppData\\Roaming\\nltk_data...\n",
      "[nltk_data]   Package wordnet is already up-to-date!\n"
     ]
    }
   ],
   "source": [
    "\n",
    "nltk.download('wordnet')\n",
    "\n",
    "stop_words = ENGLISH_STOP_WORDS\n",
    "# function to remove stopwords\n",
    "def removestopwords(text):\n",
    "    no_stopword_text = [w for w in text.split() if not w in stop_words]\n",
    "    return ' '.join(no_stopword_text)\n",
    "\n",
    "#I add the letters one by one because when I delete the stopwords there could be letters remaining.\n",
    "\n",
    "# function to remove stopwords\n",
    "def removeletters(text):\n",
    "    words = {'a', 'b','c', 'd', 'e', 'f', 'g', 'h', 'i', 'j', 'k', 'l', 'm','n','o','p','r','s','t','u','v','w','x','y','z'}\n",
    "    no_stopword_text = [w for w in text.split() if not w in words]\n",
    "    return ' '.join(no_stopword_text)\n",
    "\n",
    "def lematizing(sentence):\n",
    "    stemSentence = \"\"\n",
    "    \n",
    "    lemma=WordNetLemmatizer()\n",
    "\n",
    "    for word in sentence.split():\n",
    "        stem = lemma.lemmatize(word)\n",
    "        stemSentence += stem\n",
    "        stemSentence += \" \"\n",
    "    stemSentence = stemSentence.strip()\n",
    "    return stemSentence"
   ]
  },
  {
   "cell_type": "code",
   "execution_count": 59,
   "metadata": {},
   "outputs": [],
   "source": [
    "def preproccesser(birlesik_data):\n",
    "    birlesik_data=birlesik_data.apply(lambda x: clean(x))\n",
    "    birlesik_data = birlesik_data.apply(lambda x: removestopwords(x))\n",
    "    birlesik_data = birlesik_data.apply(lambda x: removeletters(x))\n",
    "    birlesik_data = birlesik_data.apply(lambda x: lematizing(x))\n",
    "    return birlesik_data"
   ]
  },
  {
   "cell_type": "markdown",
   "metadata": {},
   "source": [
    "### PART 4 - Modul Analysis\n",
    "#### 4-a"
   ]
  },
  {
   "cell_type": "code",
   "execution_count": 60,
   "metadata": {},
   "outputs": [
    {
     "data": {
      "text/html": [
       "<div>\n",
       "<style scoped>\n",
       "    .dataframe tbody tr th:only-of-type {\n",
       "        vertical-align: middle;\n",
       "    }\n",
       "\n",
       "    .dataframe tbody tr th {\n",
       "        vertical-align: top;\n",
       "    }\n",
       "\n",
       "    .dataframe thead th {\n",
       "        text-align: right;\n",
       "    }\n",
       "</style>\n",
       "<table border=\"1\" class=\"dataframe\">\n",
       "  <thead>\n",
       "    <tr style=\"text-align: right;\">\n",
       "      <th></th>\n",
       "      <th>idf_weights</th>\n",
       "    </tr>\n",
       "  </thead>\n",
       "  <tbody>\n",
       "    <tr>\n",
       "      <th>the</th>\n",
       "      <td>1.030095</td>\n",
       "    </tr>\n",
       "    <tr>\n",
       "      <th>of</th>\n",
       "      <td>1.059912</td>\n",
       "    </tr>\n",
       "    <tr>\n",
       "      <th>and</th>\n",
       "      <td>1.086908</td>\n",
       "    </tr>\n",
       "    <tr>\n",
       "      <th>in</th>\n",
       "      <td>1.156434</td>\n",
       "    </tr>\n",
       "    <tr>\n",
       "      <th>to</th>\n",
       "      <td>1.232595</td>\n",
       "    </tr>\n",
       "    <tr>\n",
       "      <th>is</th>\n",
       "      <td>1.340357</td>\n",
       "    </tr>\n",
       "    <tr>\n",
       "      <th>with</th>\n",
       "      <td>1.582102</td>\n",
       "    </tr>\n",
       "    <tr>\n",
       "      <th>his</th>\n",
       "      <td>1.636622</td>\n",
       "    </tr>\n",
       "    <tr>\n",
       "      <th>for</th>\n",
       "      <td>1.649638</td>\n",
       "    </tr>\n",
       "    <tr>\n",
       "      <th>as</th>\n",
       "      <td>1.669484</td>\n",
       "    </tr>\n",
       "    <tr>\n",
       "      <th>by</th>\n",
       "      <td>1.669484</td>\n",
       "    </tr>\n",
       "  </tbody>\n",
       "</table>\n",
       "</div>"
      ],
      "text/plain": [
       "      idf_weights\n",
       "the      1.030095\n",
       "of       1.059912\n",
       "and      1.086908\n",
       "in       1.156434\n",
       "to       1.232595\n",
       "is       1.340357\n",
       "with     1.582102\n",
       "his      1.636622\n",
       "for      1.649638\n",
       "as       1.669484\n",
       "by       1.669484"
      ]
     },
     "execution_count": 60,
     "metadata": {},
     "output_type": "execute_result"
    }
   ],
   "source": [
    "df_idfCls.head(11)"
   ]
  },
  {
   "cell_type": "code",
   "execution_count": 61,
   "metadata": {},
   "outputs": [
    {
     "data": {
      "text/html": [
       "<div>\n",
       "<style scoped>\n",
       "    .dataframe tbody tr th:only-of-type {\n",
       "        vertical-align: middle;\n",
       "    }\n",
       "\n",
       "    .dataframe tbody tr th {\n",
       "        vertical-align: top;\n",
       "    }\n",
       "\n",
       "    .dataframe thead th {\n",
       "        text-align: right;\n",
       "    }\n",
       "</style>\n",
       "<table border=\"1\" class=\"dataframe\">\n",
       "  <thead>\n",
       "    <tr style=\"text-align: right;\">\n",
       "      <th></th>\n",
       "      <th>idf_weights</th>\n",
       "    </tr>\n",
       "  </thead>\n",
       "  <tbody>\n",
       "    <tr>\n",
       "      <th>the</th>\n",
       "      <td>1.022252</td>\n",
       "    </tr>\n",
       "    <tr>\n",
       "      <th>and</th>\n",
       "      <td>1.031516</td>\n",
       "    </tr>\n",
       "    <tr>\n",
       "      <th>to</th>\n",
       "      <td>1.038990</td>\n",
       "    </tr>\n",
       "    <tr>\n",
       "      <th>of</th>\n",
       "      <td>1.092932</td>\n",
       "    </tr>\n",
       "    <tr>\n",
       "      <th>in</th>\n",
       "      <td>1.153730</td>\n",
       "    </tr>\n",
       "    <tr>\n",
       "      <th>is</th>\n",
       "      <td>1.198469</td>\n",
       "    </tr>\n",
       "    <tr>\n",
       "      <th>her</th>\n",
       "      <td>1.208195</td>\n",
       "    </tr>\n",
       "    <tr>\n",
       "      <th>but</th>\n",
       "      <td>1.248998</td>\n",
       "    </tr>\n",
       "    <tr>\n",
       "      <th>for</th>\n",
       "      <td>1.273355</td>\n",
       "    </tr>\n",
       "    <tr>\n",
       "      <th>she</th>\n",
       "      <td>1.285760</td>\n",
       "    </tr>\n",
       "    <tr>\n",
       "      <th>that</th>\n",
       "      <td>1.309565</td>\n",
       "    </tr>\n",
       "  </tbody>\n",
       "</table>\n",
       "</div>"
      ],
      "text/plain": [
       "      idf_weights\n",
       "the      1.022252\n",
       "and      1.031516\n",
       "to       1.038990\n",
       "of       1.092932\n",
       "in       1.153730\n",
       "is       1.198469\n",
       "her      1.208195\n",
       "but      1.248998\n",
       "for      1.273355\n",
       "she      1.285760\n",
       "that     1.309565"
      ]
     },
     "execution_count": 61,
     "metadata": {},
     "output_type": "execute_result"
    }
   ],
   "source": [
    "df_idfRm.head(11)"
   ]
  },
  {
   "cell_type": "code",
   "execution_count": 62,
   "metadata": {},
   "outputs": [
    {
     "data": {
      "text/html": [
       "<div>\n",
       "<style scoped>\n",
       "    .dataframe tbody tr th:only-of-type {\n",
       "        vertical-align: middle;\n",
       "    }\n",
       "\n",
       "    .dataframe tbody tr th {\n",
       "        vertical-align: top;\n",
       "    }\n",
       "\n",
       "    .dataframe thead th {\n",
       "        text-align: right;\n",
       "    }\n",
       "</style>\n",
       "<table border=\"1\" class=\"dataframe\">\n",
       "  <thead>\n",
       "    <tr style=\"text-align: right;\">\n",
       "      <th></th>\n",
       "      <th>idf_weights</th>\n",
       "    </tr>\n",
       "  </thead>\n",
       "  <tbody>\n",
       "    <tr>\n",
       "      <th>the</th>\n",
       "      <td>1.022728</td>\n",
       "    </tr>\n",
       "    <tr>\n",
       "      <th>of</th>\n",
       "      <td>1.062080</td>\n",
       "    </tr>\n",
       "    <tr>\n",
       "      <th>and</th>\n",
       "      <td>1.086282</td>\n",
       "    </tr>\n",
       "    <tr>\n",
       "      <th>to</th>\n",
       "      <td>1.114678</td>\n",
       "    </tr>\n",
       "    <tr>\n",
       "      <th>in</th>\n",
       "      <td>1.206036</td>\n",
       "    </tr>\n",
       "    <tr>\n",
       "      <th>is</th>\n",
       "      <td>1.297900</td>\n",
       "    </tr>\n",
       "    <tr>\n",
       "      <th>that</th>\n",
       "      <td>1.468400</td>\n",
       "    </tr>\n",
       "    <tr>\n",
       "      <th>for</th>\n",
       "      <td>1.519693</td>\n",
       "    </tr>\n",
       "    <tr>\n",
       "      <th>on</th>\n",
       "      <td>1.601199</td>\n",
       "    </tr>\n",
       "    <tr>\n",
       "      <th>with</th>\n",
       "      <td>1.612981</td>\n",
       "    </tr>\n",
       "    <tr>\n",
       "      <th>but</th>\n",
       "      <td>1.644586</td>\n",
       "    </tr>\n",
       "  </tbody>\n",
       "</table>\n",
       "</div>"
      ],
      "text/plain": [
       "      idf_weights\n",
       "the      1.022728\n",
       "of       1.062080\n",
       "and      1.086282\n",
       "to       1.114678\n",
       "in       1.206036\n",
       "is       1.297900\n",
       "that     1.468400\n",
       "for      1.519693\n",
       "on       1.601199\n",
       "with     1.612981\n",
       "but      1.644586"
      ]
     },
     "execution_count": 62,
     "metadata": {},
     "output_type": "execute_result"
    }
   ],
   "source": [
    "df_idfSf.head(11)"
   ]
  },
  {
   "cell_type": "code",
   "execution_count": 63,
   "metadata": {},
   "outputs": [
    {
     "data": {
      "text/html": [
       "<div>\n",
       "<style scoped>\n",
       "    .dataframe tbody tr th:only-of-type {\n",
       "        vertical-align: middle;\n",
       "    }\n",
       "\n",
       "    .dataframe tbody tr th {\n",
       "        vertical-align: top;\n",
       "    }\n",
       "\n",
       "    .dataframe thead th {\n",
       "        text-align: right;\n",
       "    }\n",
       "</style>\n",
       "<table border=\"1\" class=\"dataframe\">\n",
       "  <thead>\n",
       "    <tr style=\"text-align: right;\">\n",
       "      <th></th>\n",
       "      <th>idf_weights</th>\n",
       "    </tr>\n",
       "  </thead>\n",
       "  <tbody>\n",
       "    <tr>\n",
       "      <th>the</th>\n",
       "      <td>1.020464</td>\n",
       "    </tr>\n",
       "    <tr>\n",
       "      <th>and</th>\n",
       "      <td>1.047406</td>\n",
       "    </tr>\n",
       "    <tr>\n",
       "      <th>of</th>\n",
       "      <td>1.067960</td>\n",
       "    </tr>\n",
       "    <tr>\n",
       "      <th>to</th>\n",
       "      <td>1.094144</td>\n",
       "    </tr>\n",
       "    <tr>\n",
       "      <th>in</th>\n",
       "      <td>1.157175</td>\n",
       "    </tr>\n",
       "    <tr>\n",
       "      <th>is</th>\n",
       "      <td>1.228852</td>\n",
       "    </tr>\n",
       "    <tr>\n",
       "      <th>with</th>\n",
       "      <td>1.452100</td>\n",
       "    </tr>\n",
       "    <tr>\n",
       "      <th>that</th>\n",
       "      <td>1.455910</td>\n",
       "    </tr>\n",
       "    <tr>\n",
       "      <th>for</th>\n",
       "      <td>1.471599</td>\n",
       "    </tr>\n",
       "    <tr>\n",
       "      <th>but</th>\n",
       "      <td>1.518126</td>\n",
       "    </tr>\n",
       "    <tr>\n",
       "      <th>his</th>\n",
       "      <td>1.646166</td>\n",
       "    </tr>\n",
       "  </tbody>\n",
       "</table>\n",
       "</div>"
      ],
      "text/plain": [
       "      idf_weights\n",
       "the      1.020464\n",
       "and      1.047406\n",
       "of       1.067960\n",
       "to       1.094144\n",
       "in       1.157175\n",
       "is       1.228852\n",
       "with     1.452100\n",
       "that     1.455910\n",
       "for      1.471599\n",
       "but      1.518126\n",
       "his      1.646166"
      ]
     },
     "execution_count": 63,
     "metadata": {},
     "output_type": "execute_result"
    }
   ],
   "source": [
    "df_idBirlesikData.head(11)"
   ]
  },
  {
   "cell_type": "code",
   "execution_count": 64,
   "metadata": {},
   "outputs": [
    {
     "data": {
      "text/plain": [
       "{'life': 13436,\n",
       " 'new': 9465,\n",
       " 'world': 9433,\n",
       " 'love': 8093,\n",
       " 'year': 7661,\n",
       " 'time': 7559,\n",
       " 'story': 6838,\n",
       " 'novel': 5554,\n",
       " 'family': 5259,\n",
       " 'book': 5063}"
      ]
     },
     "execution_count": 64,
     "metadata": {},
     "output_type": "execute_result"
    }
   ],
   "source": [
    "birlesik_data2 = birlesik_data\n",
    "birlesik_data2 = preproccesser(birlesik_data2)\n",
    "tokens2 =birlesik_data2.apply(word_tokenize)\n",
    "freqs = frequencies(tokens2)\n",
    "most_frequent_words(freqs,10)"
   ]
  },
  {
   "cell_type": "markdown",
   "metadata": {},
   "source": [
    "As you see, some of the words like \"the, of, and, to, in, is, with, that, for, but\" are the most common words in data and they are making it difficult to predict because they are in every genre. After we clean them with stop-words cleaning at the next stage, we will see that predicting genre is will be easier than before.\n",
    "After stopwords cleaning, there will be \"life, new, world, love, year, time, story, novel, family, book\" like words and they are also most common words in all genres and their absance is make the prediction easier. I will narrow down my dictionary with dropping that words."
   ]
  },
  {
   "cell_type": "code",
   "execution_count": 65,
   "metadata": {},
   "outputs": [],
   "source": [
    "def removewords(text):\n",
    "    words = {\"life\", \"new\",\"world\", \"love\", \"year\", \"time\", \"story\", \"novel\", \"family\", \"book\",\"man\", \"come\", \"just\", }\n",
    "    no_stopword_text = [w for w in text.split() if not w in words]\n",
    "    return ' '.join(no_stopword_text)\n",
    "birlesik_data = birlesik_data.apply(lambda x: removewords(x))\n"
   ]
  },
  {
   "cell_type": "code",
   "execution_count": 66,
   "metadata": {},
   "outputs": [
    {
     "data": {
      "text/plain": [
       "{'secret': 4858,\n",
       " 'friend': 4645,\n",
       " 'know': 4419,\n",
       " 'year': 4385,\n",
       " 'old': 4315,\n",
       " 'woman': 4250,\n",
       " 'way': 4064,\n",
       " 'young': 3843,\n",
       " 'like': 3764,\n",
       " 'make': 3759}"
      ]
     },
     "execution_count": 66,
     "metadata": {},
     "output_type": "execute_result"
    }
   ],
   "source": [
    "birlesik_data2 = birlesik_data\n",
    "birlesik_data2 = preproccesser(birlesik_data2)\n",
    "tokens2 =birlesik_data2.apply(word_tokenize)\n",
    "freqs = frequencies(tokens2)\n",
    "most_frequent_words(freqs,10)"
   ]
  },
  {
   "cell_type": "code",
   "execution_count": 67,
   "metadata": {},
   "outputs": [],
   "source": [
    "ClassicsSet2 = list()\n",
    "FantasySet2 = list()\n",
    "FictionSet2 = list()\n",
    "HistorySet2 = list()\n",
    "HorrorSet2 = list()\n",
    "MysterySet2 = list()\n",
    "RomanceSet2 = list()\n",
    "ScienceFictionSet2 = list()\n",
    "ThrillerSet2 = list()\n",
    "YoungAdultSet2 = list()"
   ]
  },
  {
   "cell_type": "code",
   "execution_count": 68,
   "metadata": {},
   "outputs": [],
   "source": [
    "for i in range(len(tokens2)):\n",
    "    if y[i] == \"Classics\":\n",
    "        ClassicsSet2.append(tokens2[i])\n",
    "    elif y[i] == \"Fantasy\":\n",
    "        FantasySet2.append(tokens2[i]) \n",
    "    elif y[i] == \"Fiction\":\n",
    "        FictionSet2.append(tokens2[i]) \n",
    "    elif y[i] == \"History\":\n",
    "        HistorySet2.append(tokens2[i]) \n",
    "    elif y[i] == \"Horror\":\n",
    "        HorrorSet2.append(tokens2[i])\n",
    "    elif y[i] == \"Mystery\":\n",
    "        MysterySet2.append(tokens2[i])\n",
    "    elif y[i] == \"Romance\":\n",
    "        RomanceSet2.append(tokens2[i]) \n",
    "    elif y[i] == \"Science Fiction\":\n",
    "        ScienceFictionSet2.append(tokens2[i]) \n",
    "    elif y[i] == \"Thriller\":\n",
    "        ThrillerSet2.append(tokens2[i])\n",
    "    elif y[i] == \"Young Adult\":\n",
    "        YoungAdultSet2.append(tokens2[i])"
   ]
  },
  {
   "cell_type": "code",
   "execution_count": 69,
   "metadata": {},
   "outputs": [
    {
     "data": {
      "text/plain": [
       "{'tale': 293,\n",
       " 'work': 287,\n",
       " 'adventure': 246,\n",
       " 'classic': 241,\n",
       " 'edition': 227,\n",
       " 'young': 194,\n",
       " 'century': 180,\n",
       " 'woman': 176,\n",
       " 'story': 175,\n",
       " 'reader': 163}"
      ]
     },
     "execution_count": 69,
     "metadata": {},
     "output_type": "execute_result"
    }
   ],
   "source": [
    "Classics_freqs = frequencies(ClassicsSet2)\n",
    "most_frequent_words(Classics_freqs,10)"
   ]
  },
  {
   "cell_type": "code",
   "execution_count": 70,
   "metadata": {},
   "outputs": [
    {
     "data": {
      "text/plain": [
       "{'magic': 1567,\n",
       " 'power': 1469,\n",
       " 'secret': 1167,\n",
       " 'king': 994,\n",
       " 'friend': 989,\n",
       " 'old': 977,\n",
       " 'dark': 954,\n",
       " 'land': 943,\n",
       " 'know': 930,\n",
       " 'young': 927}"
      ]
     },
     "execution_count": 70,
     "metadata": {},
     "output_type": "execute_result"
    }
   ],
   "source": [
    "Fantasy_freqs = frequencies(FantasySet2)\n",
    "most_frequent_words(Fantasy_freqs,10)"
   ]
  },
  {
   "cell_type": "code",
   "execution_count": 71,
   "metadata": {},
   "outputs": [
    {
     "data": {
      "text/plain": [
       "{'woman': 1366,\n",
       " 'young': 1279,\n",
       " 'year': 1130,\n",
       " 'old': 1091,\n",
       " 'life': 984,\n",
       " 'day': 916,\n",
       " 'mother': 905,\n",
       " 'secret': 889,\n",
       " 'work': 885,\n",
       " 'war': 873}"
      ]
     },
     "execution_count": 71,
     "metadata": {},
     "output_type": "execute_result"
    }
   ],
   "source": [
    "Fiction_freqs = frequencies(FictionSet2)\n",
    "most_frequent_words(Fiction_freqs,10)"
   ]
  },
  {
   "cell_type": "markdown",
   "metadata": {},
   "source": [
    "Here as you can see, after narrowing down my dictionary, some specific words for genres appears. For example; \"tale, adventure, classic\" words are specific for Classics genre, \"magic, power, secret, king\" words are specific for Fantasy genre and \"woman, young, secret\" words are specific for Fiction genre."
   ]
  },
  {
   "cell_type": "markdown",
   "metadata": {},
   "source": [
    "#### Tfidf model fitting"
   ]
  },
  {
   "cell_type": "code",
   "execution_count": 72,
   "metadata": {},
   "outputs": [],
   "source": [
    "nb_model3 = NaiveBayesClassifier()\n",
    "nb_model3.fit()"
   ]
  },
  {
   "cell_type": "code",
   "execution_count": 73,
   "metadata": {},
   "outputs": [],
   "source": [
    "tfidf = TfidfVectorizer(min_df = 3, lowercase = True,max_features= 21, sublinear_tf = True)"
   ]
  },
  {
   "cell_type": "code",
   "execution_count": 74,
   "metadata": {},
   "outputs": [],
   "source": [
    "feature = tfidf.fit_transform(birlesik_data).toarray()"
   ]
  },
  {
   "cell_type": "code",
   "execution_count": 75,
   "metadata": {},
   "outputs": [],
   "source": [
    "X3 = feature[0:16863]\n",
    "X_test3 = feature[16863:21079]"
   ]
  },
  {
   "cell_type": "code",
   "execution_count": 76,
   "metadata": {},
   "outputs": [],
   "source": [
    "nb_model3.fit(X3, y[0:16863].ravel())"
   ]
  },
  {
   "cell_type": "code",
   "execution_count": 77,
   "metadata": {},
   "outputs": [],
   "source": [
    "y_pred3 = nb_model3.predict(X_test3)"
   ]
  },
  {
   "cell_type": "code",
   "execution_count": 78,
   "metadata": {},
   "outputs": [
    {
     "name": "stdout",
     "output_type": "stream",
     "text": [
      "                 precision    recall  f1-score   support\n",
      "\n",
      "       Classics       0.00      0.00      0.00       120\n",
      "        Fantasy       0.20      0.30      0.24       826\n",
      "        Fiction       0.24      0.83      0.37       858\n",
      "        History       0.00      0.00      0.00       237\n",
      "         Horror       0.00      0.00      0.00       120\n",
      "        Mystery       0.00      0.00      0.00       543\n",
      "        Romance       0.00      0.00      0.00       735\n",
      "Science Fiction       0.00      0.00      0.00       273\n",
      "       Thriller       0.00      0.00      0.00        90\n",
      "    Young Adult       0.00      0.00      0.00       414\n",
      "\n",
      "       accuracy                           0.23      4216\n",
      "      macro avg       0.04      0.11      0.06      4216\n",
      "   weighted avg       0.09      0.23      0.12      4216\n",
      "\n"
     ]
    }
   ],
   "source": [
    "print(classification_report(y_test, y_pred3))"
   ]
  },
  {
   "cell_type": "markdown",
   "metadata": {},
   "source": [
    "If you have more instances in one class, the good word features of the frequent class risk having lower IDF, thus their best features will have a lower weight. Since I have a dataset which hasn't good distribution, my TF-IDF accuracy is low."
   ]
  },
  {
   "cell_type": "markdown",
   "metadata": {},
   "source": [
    "#### 4-b\n",
    "#### From now on, I will do the stop-word cleaning and do all again to observe results"
   ]
  },
  {
   "cell_type": "markdown",
   "metadata": {},
   "source": [
    "I found common words like ‘a’, ‘to’, ‘are’ and others in my list in Part 2 (4.a).\n",
    "These are called stop words. I will remove them with my preprocesser function"
   ]
  },
  {
   "cell_type": "code",
   "execution_count": 79,
   "metadata": {},
   "outputs": [
    {
     "data": {
      "text/plain": [
       "0        winning mean fame fortune losing mean certain ...\n",
       "1        door end silent corridor haunting harry pottte...\n",
       "2        unforgettable childhood sleepy southern town c...\n",
       "3        alternate cover edition isbn immediate success...\n",
       "4        thing absolutely positive edward vampire secon...\n",
       "                               ...                        \n",
       "21074    seventeen old kara nightingale suddenly struck...\n",
       "21075    lilah lopez dresers town care unfinished busin...\n",
       "21076    anasazi sequel thirteenth chime emma michael a...\n",
       "21077    reader favorite award winner sixteen old kara ...\n",
       "21078    powerful tremor unearths ancient secretburied ...\n",
       "Name: description, Length: 21079, dtype: object"
      ]
     },
     "execution_count": 79,
     "metadata": {},
     "output_type": "execute_result"
    }
   ],
   "source": [
    "birlesik_data = preproccesser(birlesik_data)\n",
    "birlesik_data"
   ]
  },
  {
   "cell_type": "code",
   "execution_count": 80,
   "metadata": {},
   "outputs": [
    {
     "data": {
      "text/plain": [
       "{'magic': 1567,\n",
       " 'power': 1469,\n",
       " 'secret': 1167,\n",
       " 'king': 994,\n",
       " 'friend': 989,\n",
       " 'old': 977,\n",
       " 'dark': 954,\n",
       " 'land': 943,\n",
       " 'know': 930,\n",
       " 'young': 927}"
      ]
     },
     "execution_count": 80,
     "metadata": {},
     "output_type": "execute_result"
    }
   ],
   "source": [
    "Fantasy_freqs = frequencies(FantasySet2)\n",
    "most_frequent_words(Fantasy_freqs,10)"
   ]
  },
  {
   "cell_type": "code",
   "execution_count": 81,
   "metadata": {},
   "outputs": [
    {
     "data": {
      "text/plain": [
       "{'murder': 743,\n",
       " 'killer': 608,\n",
       " 'case': 575,\n",
       " 'mystery': 568,\n",
       " 'secret': 567,\n",
       " 'detective': 497,\n",
       " 'woman': 486,\n",
       " 'old': 475,\n",
       " 'death': 461,\n",
       " 'crime': 443}"
      ]
     },
     "execution_count": 81,
     "metadata": {},
     "output_type": "execute_result"
    }
   ],
   "source": [
    "Mystery_freqs = frequencies(MysterySet2)\n",
    "most_frequent_words(Mystery_freqs,10)"
   ]
  },
  {
   "cell_type": "markdown",
   "metadata": {},
   "source": [
    "Theese are 10 non-stop words that most strongly predict that the book genre is ’Fantasy’ and the 10 non-stop words that most strongly predict that the book genre is ’Mystery’.\n"
   ]
  },
  {
   "cell_type": "markdown",
   "metadata": {},
   "source": [
    "#### 4-c"
   ]
  },
  {
   "cell_type": "markdown",
   "metadata": {},
   "source": [
    "Stop words are available in abundance in any human language. By removing these words, we remove the low-level information from our text in order to give more focus to the important information. We should remove these tokens only if they don’t add any new information for our problem. But removing stop words not always a good idea. In the context of sentiment analysis, removing stop words can be problematic if context is affected. For example suppose your stop word corpus includes ‘not’, which is a negation that can alter the valence of the passage. So you have to be cautious of exactly what is being dropped and what consequences it can have."
   ]
  },
  {
   "cell_type": "code",
   "execution_count": 82,
   "metadata": {},
   "outputs": [],
   "source": [
    "\n",
    "#BAG OF WORDS\n",
    "#There’s a parameter called min_df that basically removes words that appear less than 3 times\n",
    "#Unigram\n",
    "vectorizer = CountVectorizer(min_df=3,ngram_range=(1, 1)).fit(birlesik_data)\n",
    "#print(\"Vocabulary size: \", len(vectorizer.vocabulary_))\n",
    "#print(\"Vocabulary:\\n\", vectorizer.get_feature_names())\n",
    "Xbow = vectorizer.fit_transform(birlesik_data).toarray()\n"
   ]
  },
  {
   "cell_type": "code",
   "execution_count": 83,
   "metadata": {},
   "outputs": [],
   "source": [
    "#Bigram\n",
    "#I take a random sample from data because I had memory issue\n",
    "bigramData = birlesik_data[:4000]\n",
    "vectorizer2 = CountVectorizer(min_df=3,ngram_range=(2, 2)).fit(bigramData)\n",
    "#print(\"Vocabulary size: \", len(vectorizer2.vocabulary_))\n",
    "#print(\"Vocabulary:\\n\", vectorizer2.get_feature_names())\n",
    "Xbow2 = vectorizer2.fit_transform(bigramData).toarray()\n"
   ]
  },
  {
   "cell_type": "code",
   "execution_count": 84,
   "metadata": {},
   "outputs": [],
   "source": [
    "X1 = Xbow[0:16863]\n",
    "X_test1 = Xbow[16863:21079] #Splitting data 80-20 for unigram model\n",
    "\n",
    "nb_model1 = NaiveBayesClassifier()\n",
    "nb_model2 = NaiveBayesClassifier()"
   ]
  },
  {
   "cell_type": "code",
   "execution_count": 85,
   "metadata": {},
   "outputs": [],
   "source": [
    "X2 = Xbow2[0:3200] #for bigram model\n",
    "X_test2 = Xbow2[3200:]"
   ]
  },
  {
   "cell_type": "code",
   "execution_count": 86,
   "metadata": {},
   "outputs": [],
   "source": [
    "nb_model1.fit(X1, y[0:16863].ravel())"
   ]
  },
  {
   "cell_type": "code",
   "execution_count": 87,
   "metadata": {},
   "outputs": [],
   "source": [
    "nb_model2.fit(X2, y[0:3200].ravel())"
   ]
  },
  {
   "cell_type": "code",
   "execution_count": 88,
   "metadata": {},
   "outputs": [],
   "source": [
    "y_pred1 = nb_model1.predict(X_test1)"
   ]
  },
  {
   "cell_type": "code",
   "execution_count": 89,
   "metadata": {},
   "outputs": [],
   "source": [
    "y_pred2 = nb_model2.predict(X_test2)"
   ]
  },
  {
   "cell_type": "code",
   "execution_count": 90,
   "metadata": {},
   "outputs": [
    {
     "name": "stdout",
     "output_type": "stream",
     "text": [
      "unigram classification report for stop-words cleaned data\n",
      "                 precision    recall  f1-score   support\n",
      "\n",
      "       Classics       1.00      0.01      0.02       120\n",
      "        Fantasy       0.46      0.68      0.55       826\n",
      "        Fiction       0.32      0.78      0.45       858\n",
      "        History       0.87      0.22      0.36       237\n",
      "         Horror       0.00      0.00      0.00       120\n",
      "        Mystery       0.81      0.15      0.25       543\n",
      "        Romance       0.64      0.45      0.53       735\n",
      "Science Fiction       0.83      0.04      0.07       273\n",
      "       Thriller       1.00      0.01      0.02        90\n",
      "    Young Adult       0.58      0.31      0.41       414\n",
      "\n",
      "       accuracy                           0.43      4216\n",
      "      macro avg       0.65      0.26      0.27      4216\n",
      "   weighted avg       0.58      0.43      0.39      4216\n",
      "\n"
     ]
    }
   ],
   "source": [
    "y_test1 = y[16863:21079]\n",
    "y_test2 = y[3200:4000]\n",
    "print(\"unigram classification report for stop-words cleaned data\")\n",
    "print(classification_report(y_test1, y_pred1)) "
   ]
  },
  {
   "cell_type": "code",
   "execution_count": 91,
   "metadata": {},
   "outputs": [
    {
     "name": "stdout",
     "output_type": "stream",
     "text": [
      "bigram classification report for stop-words cleaned data\n",
      "                 precision    recall  f1-score   support\n",
      "\n",
      "       Classics       0.00      0.00      0.00        43\n",
      "        Fantasy       0.75      0.01      0.03       212\n",
      "        Fiction       0.24      1.00      0.38       188\n",
      "        History       0.00      0.00      0.00        18\n",
      "         Horror       0.00      0.00      0.00        25\n",
      "        Mystery       0.00      0.00      0.00        47\n",
      "        Romance       0.00      0.00      0.00        82\n",
      "Science Fiction       0.00      0.00      0.00        41\n",
      "       Thriller       0.00      0.00      0.00        13\n",
      "    Young Adult       0.00      0.00      0.00       131\n",
      "\n",
      "       accuracy                           0.24       800\n",
      "      macro avg       0.10      0.10      0.04       800\n",
      "   weighted avg       0.25      0.24      0.10       800\n",
      "\n"
     ]
    }
   ],
   "source": [
    "print(\"bigram classification report for stop-words cleaned data\")\n",
    "print(classification_report(y_test2, y_pred2)) "
   ]
  },
  {
   "cell_type": "markdown",
   "metadata": {},
   "source": [
    "Here you can see the effect of narrowing down the dictionary and cleaning stopwords on accuracies. I didn't find out why the bigram accuracy get low but I tought that maybe because of sample distribution, it used the stopwords as spesific genre words."
   ]
  },
  {
   "cell_type": "code",
   "execution_count": 92,
   "metadata": {},
   "outputs": [],
   "source": [
    "nb_model3 = NaiveBayesClassifier()\n",
    "nb_model3.fit()"
   ]
  },
  {
   "cell_type": "code",
   "execution_count": 93,
   "metadata": {},
   "outputs": [],
   "source": [
    "tfidf = TfidfVectorizer(min_df = 3, lowercase = True,max_features= 21, sublinear_tf = True)"
   ]
  },
  {
   "cell_type": "code",
   "execution_count": 94,
   "metadata": {},
   "outputs": [],
   "source": [
    "feature = tfidf.fit_transform(birlesik_data).toarray()"
   ]
  },
  {
   "cell_type": "code",
   "execution_count": 95,
   "metadata": {},
   "outputs": [],
   "source": [
    "X3 = feature[0:16863]\n",
    "X_test3 = feature[16863:21079]"
   ]
  },
  {
   "cell_type": "code",
   "execution_count": 96,
   "metadata": {},
   "outputs": [],
   "source": [
    "nb_model3.fit(X3, y[0:16863].ravel())"
   ]
  },
  {
   "cell_type": "code",
   "execution_count": 97,
   "metadata": {},
   "outputs": [],
   "source": [
    "y_pred3 = nb_model3.predict(X_test3)"
   ]
  },
  {
   "cell_type": "code",
   "execution_count": 98,
   "metadata": {},
   "outputs": [
    {
     "name": "stdout",
     "output_type": "stream",
     "text": [
      "tf-idf classification report for stop-words cleaned data\n",
      "                 precision    recall  f1-score   support\n",
      "\n",
      "       Classics       0.00      0.00      0.00       120\n",
      "        Fantasy       0.28      0.33      0.30       826\n",
      "        Fiction       0.23      0.86      0.36       858\n",
      "        History       0.00      0.00      0.00       237\n",
      "         Horror       0.00      0.00      0.00       120\n",
      "        Mystery       0.00      0.00      0.00       543\n",
      "        Romance       0.00      0.00      0.00       735\n",
      "Science Fiction       0.00      0.00      0.00       273\n",
      "       Thriller       0.00      0.00      0.00        90\n",
      "    Young Adult       0.00      0.00      0.00       414\n",
      "\n",
      "       accuracy                           0.24      4216\n",
      "      macro avg       0.05      0.12      0.07      4216\n",
      "   weighted avg       0.10      0.24      0.13      4216\n",
      "\n"
     ]
    }
   ],
   "source": [
    "print(\"tf-idf classification report for stop-words cleaned data\")\n",
    "print(classification_report(y_test, y_pred3))"
   ]
  },
  {
   "cell_type": "markdown",
   "metadata": {},
   "source": [
    "### PART 5 -  Calculation of Accuracy\n",
    "I calculated my model accuracies throughout my notebook but I also tabularized all of them for you."
   ]
  },
  {
   "attachments": {
    "TabularizedAccuracies.png": {
     "image/png": "[encoded data removed]"
    }
   },
   "cell_type": "markdown",
   "metadata": {},
   "source": [
    "![TabularizedAccuracies.png](attachment:TabularizedAccuracies.png)"
   ]
  },
  {
   "cell_type": "markdown",
   "metadata": {},
   "source": [
    "Thanks for giving time."
   ]
  },
  {
   "cell_type": "code",
   "execution_count": null,
   "metadata": {},
   "outputs": [],
   "source": []
  },
  {
   "cell_type": "code",
   "execution_count": null,
   "metadata": {},
   "outputs": [],
   "source": []
  },
  {
   "cell_type": "code",
   "execution_count": null,
   "metadata": {},
   "outputs": [],
   "source": []
  }
 ],
 "metadata": {
  "colab": {
   "collapsed_sections": [],
   "provenance": [],
   "toc_visible": true
  },
  "kernelspec": {
   "display_name": "Python 3 (ipykernel)",
   "language": "python",
   "name": "python3"
  },
  "language_info": {
   "codemirror_mode": {
    "name": "ipython",
    "version": 3
   },
   "file_extension": ".py",
   "mimetype": "text/x-python",
   "name": "python",
   "nbconvert_exporter": "python",
   "pygments_lexer": "ipython3",
   "version": "3.9.12"
  }
 },
 "nbformat": 4,
 "nbformat_minor": 1
}
